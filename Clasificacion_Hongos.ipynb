{
  "nbformat": 4,
  "nbformat_minor": 0,
  "metadata": {
    "colab": {
      "name": "Copia de Clasificacion Hongos.ipynb",
      "provenance": [],
      "collapsed_sections": [],
      "toc_visible": true,
      "authorship_tag": "ABX9TyPAAm8k2NKnqRCwKD4cLhdO",
      "include_colab_link": true
    },
    "kernelspec": {
      "name": "python3",
      "display_name": "Python 3"
    },
    "language_info": {
      "name": "python"
    }
  },
  "cells": [
    {
      "cell_type": "markdown",
      "metadata": {
        "id": "view-in-github",
        "colab_type": "text"
      },
      "source": [
        "<a href=\"https://colab.research.google.com/github/raulsomazabracho/Clusterization/blob/main/Clasificacion_Hongos.ipynb\" target=\"_parent\"><img src=\"https://colab.research.google.com/assets/colab-badge.svg\" alt=\"Open In Colab\"/></a>"
      ]
    },
    {
      "cell_type": "markdown",
      "source": [
        "Este codigo puede clasificar hongos por venenosos y no venenosos basandose en sus caracteristicas"
      ],
      "metadata": {
        "id": "aBybr-7pNiiI"
      }
    },
    {
      "cell_type": "markdown",
      "source": [
        "# IMPORTAMOS PRIMERAS LIBRERIAS"
      ],
      "metadata": {
        "id": "-XlnmFIogjTZ"
      }
    },
    {
      "cell_type": "code",
      "execution_count": null,
      "metadata": {
        "id": "dccua1Tcf9Gg",
        "colab": {
          "base_uri": "https://localhost:8080/"
        },
        "outputId": "5fec9ff2-9dcb-4ea2-d045-1ac402925ad8"
      },
      "outputs": [
        {
          "output_type": "stream",
          "name": "stdout",
          "text": [
            "Mounted at /content/drive/\n"
          ]
        }
      ],
      "source": [
        "#Para obtener acceso a archivos del google drive\n",
        "from google.colab import drive\n",
        "drive.mount('/content/drive/')\n",
        "#Librerias basicas de ciencia de datos\n",
        "import pandas as pd\n",
        "import numpy as np\n",
        "import seaborn as sns\n",
        "import matplotlib.pyplot as plt"
      ]
    },
    {
      "cell_type": "markdown",
      "source": [
        "# LECTURA DEL DATASET"
      ],
      "metadata": {
        "id": "DADroKhWgrPR"
      }
    },
    {
      "cell_type": "code",
      "source": [
        "df = pd.read_csv(r'/content/drive/MyDrive/Data Science/Python/Clusterizaciones (Supervisadas)/Hongos (Comparando varios modelos)/mushrooms.csv')\n",
        "print(df.info)\n",
        "df.head(5)"
      ],
      "metadata": {
        "colab": {
          "base_uri": "https://localhost:8080/",
          "height": 575
        },
        "id": "asw4fuw2gqu4",
        "outputId": "d4093a0f-a095-45f0-8bd1-719c14426eef"
      },
      "execution_count": null,
      "outputs": [
        {
          "output_type": "stream",
          "name": "stdout",
          "text": [
            "<bound method DataFrame.info of      class cap-shape cap-surface  ... spore-print-color population habitat\n",
            "0        p         x           s  ...                 k          s       u\n",
            "1        e         x           s  ...                 n          n       g\n",
            "2        e         b           s  ...                 n          n       m\n",
            "3        p         x           y  ...                 k          s       u\n",
            "4        e         x           s  ...                 n          a       g\n",
            "...    ...       ...         ...  ...               ...        ...     ...\n",
            "8119     e         k           s  ...                 b          c       l\n",
            "8120     e         x           s  ...                 b          v       l\n",
            "8121     e         f           s  ...                 b          c       l\n",
            "8122     p         k           y  ...                 w          v       l\n",
            "8123     e         x           s  ...                 o          c       l\n",
            "\n",
            "[8124 rows x 23 columns]>\n"
          ]
        },
        {
          "output_type": "execute_result",
          "data": {
            "text/html": [
              "\n",
              "  <div id=\"df-f4ef5bde-8bad-4d61-bc92-85b4bc3ebf3a\">\n",
              "    <div class=\"colab-df-container\">\n",
              "      <div>\n",
              "<style scoped>\n",
              "    .dataframe tbody tr th:only-of-type {\n",
              "        vertical-align: middle;\n",
              "    }\n",
              "\n",
              "    .dataframe tbody tr th {\n",
              "        vertical-align: top;\n",
              "    }\n",
              "\n",
              "    .dataframe thead th {\n",
              "        text-align: right;\n",
              "    }\n",
              "</style>\n",
              "<table border=\"1\" class=\"dataframe\">\n",
              "  <thead>\n",
              "    <tr style=\"text-align: right;\">\n",
              "      <th></th>\n",
              "      <th>class</th>\n",
              "      <th>cap-shape</th>\n",
              "      <th>cap-surface</th>\n",
              "      <th>cap-color</th>\n",
              "      <th>bruises</th>\n",
              "      <th>odor</th>\n",
              "      <th>gill-attachment</th>\n",
              "      <th>gill-spacing</th>\n",
              "      <th>gill-size</th>\n",
              "      <th>gill-color</th>\n",
              "      <th>stalk-shape</th>\n",
              "      <th>stalk-root</th>\n",
              "      <th>stalk-surface-above-ring</th>\n",
              "      <th>stalk-surface-below-ring</th>\n",
              "      <th>stalk-color-above-ring</th>\n",
              "      <th>stalk-color-below-ring</th>\n",
              "      <th>veil-type</th>\n",
              "      <th>veil-color</th>\n",
              "      <th>ring-number</th>\n",
              "      <th>ring-type</th>\n",
              "      <th>spore-print-color</th>\n",
              "      <th>population</th>\n",
              "      <th>habitat</th>\n",
              "    </tr>\n",
              "  </thead>\n",
              "  <tbody>\n",
              "    <tr>\n",
              "      <th>0</th>\n",
              "      <td>p</td>\n",
              "      <td>x</td>\n",
              "      <td>s</td>\n",
              "      <td>n</td>\n",
              "      <td>t</td>\n",
              "      <td>p</td>\n",
              "      <td>f</td>\n",
              "      <td>c</td>\n",
              "      <td>n</td>\n",
              "      <td>k</td>\n",
              "      <td>e</td>\n",
              "      <td>e</td>\n",
              "      <td>s</td>\n",
              "      <td>s</td>\n",
              "      <td>w</td>\n",
              "      <td>w</td>\n",
              "      <td>p</td>\n",
              "      <td>w</td>\n",
              "      <td>o</td>\n",
              "      <td>p</td>\n",
              "      <td>k</td>\n",
              "      <td>s</td>\n",
              "      <td>u</td>\n",
              "    </tr>\n",
              "    <tr>\n",
              "      <th>1</th>\n",
              "      <td>e</td>\n",
              "      <td>x</td>\n",
              "      <td>s</td>\n",
              "      <td>y</td>\n",
              "      <td>t</td>\n",
              "      <td>a</td>\n",
              "      <td>f</td>\n",
              "      <td>c</td>\n",
              "      <td>b</td>\n",
              "      <td>k</td>\n",
              "      <td>e</td>\n",
              "      <td>c</td>\n",
              "      <td>s</td>\n",
              "      <td>s</td>\n",
              "      <td>w</td>\n",
              "      <td>w</td>\n",
              "      <td>p</td>\n",
              "      <td>w</td>\n",
              "      <td>o</td>\n",
              "      <td>p</td>\n",
              "      <td>n</td>\n",
              "      <td>n</td>\n",
              "      <td>g</td>\n",
              "    </tr>\n",
              "    <tr>\n",
              "      <th>2</th>\n",
              "      <td>e</td>\n",
              "      <td>b</td>\n",
              "      <td>s</td>\n",
              "      <td>w</td>\n",
              "      <td>t</td>\n",
              "      <td>l</td>\n",
              "      <td>f</td>\n",
              "      <td>c</td>\n",
              "      <td>b</td>\n",
              "      <td>n</td>\n",
              "      <td>e</td>\n",
              "      <td>c</td>\n",
              "      <td>s</td>\n",
              "      <td>s</td>\n",
              "      <td>w</td>\n",
              "      <td>w</td>\n",
              "      <td>p</td>\n",
              "      <td>w</td>\n",
              "      <td>o</td>\n",
              "      <td>p</td>\n",
              "      <td>n</td>\n",
              "      <td>n</td>\n",
              "      <td>m</td>\n",
              "    </tr>\n",
              "    <tr>\n",
              "      <th>3</th>\n",
              "      <td>p</td>\n",
              "      <td>x</td>\n",
              "      <td>y</td>\n",
              "      <td>w</td>\n",
              "      <td>t</td>\n",
              "      <td>p</td>\n",
              "      <td>f</td>\n",
              "      <td>c</td>\n",
              "      <td>n</td>\n",
              "      <td>n</td>\n",
              "      <td>e</td>\n",
              "      <td>e</td>\n",
              "      <td>s</td>\n",
              "      <td>s</td>\n",
              "      <td>w</td>\n",
              "      <td>w</td>\n",
              "      <td>p</td>\n",
              "      <td>w</td>\n",
              "      <td>o</td>\n",
              "      <td>p</td>\n",
              "      <td>k</td>\n",
              "      <td>s</td>\n",
              "      <td>u</td>\n",
              "    </tr>\n",
              "    <tr>\n",
              "      <th>4</th>\n",
              "      <td>e</td>\n",
              "      <td>x</td>\n",
              "      <td>s</td>\n",
              "      <td>g</td>\n",
              "      <td>f</td>\n",
              "      <td>n</td>\n",
              "      <td>f</td>\n",
              "      <td>w</td>\n",
              "      <td>b</td>\n",
              "      <td>k</td>\n",
              "      <td>t</td>\n",
              "      <td>e</td>\n",
              "      <td>s</td>\n",
              "      <td>s</td>\n",
              "      <td>w</td>\n",
              "      <td>w</td>\n",
              "      <td>p</td>\n",
              "      <td>w</td>\n",
              "      <td>o</td>\n",
              "      <td>e</td>\n",
              "      <td>n</td>\n",
              "      <td>a</td>\n",
              "      <td>g</td>\n",
              "    </tr>\n",
              "  </tbody>\n",
              "</table>\n",
              "</div>\n",
              "      <button class=\"colab-df-convert\" onclick=\"convertToInteractive('df-f4ef5bde-8bad-4d61-bc92-85b4bc3ebf3a')\"\n",
              "              title=\"Convert this dataframe to an interactive table.\"\n",
              "              style=\"display:none;\">\n",
              "        \n",
              "  <svg xmlns=\"http://www.w3.org/2000/svg\" height=\"24px\"viewBox=\"0 0 24 24\"\n",
              "       width=\"24px\">\n",
              "    <path d=\"M0 0h24v24H0V0z\" fill=\"none\"/>\n",
              "    <path d=\"M18.56 5.44l.94 2.06.94-2.06 2.06-.94-2.06-.94-.94-2.06-.94 2.06-2.06.94zm-11 1L8.5 8.5l.94-2.06 2.06-.94-2.06-.94L8.5 2.5l-.94 2.06-2.06.94zm10 10l.94 2.06.94-2.06 2.06-.94-2.06-.94-.94-2.06-.94 2.06-2.06.94z\"/><path d=\"M17.41 7.96l-1.37-1.37c-.4-.4-.92-.59-1.43-.59-.52 0-1.04.2-1.43.59L10.3 9.45l-7.72 7.72c-.78.78-.78 2.05 0 2.83L4 21.41c.39.39.9.59 1.41.59.51 0 1.02-.2 1.41-.59l7.78-7.78 2.81-2.81c.8-.78.8-2.07 0-2.86zM5.41 20L4 18.59l7.72-7.72 1.47 1.35L5.41 20z\"/>\n",
              "  </svg>\n",
              "      </button>\n",
              "      \n",
              "  <style>\n",
              "    .colab-df-container {\n",
              "      display:flex;\n",
              "      flex-wrap:wrap;\n",
              "      gap: 12px;\n",
              "    }\n",
              "\n",
              "    .colab-df-convert {\n",
              "      background-color: #E8F0FE;\n",
              "      border: none;\n",
              "      border-radius: 50%;\n",
              "      cursor: pointer;\n",
              "      display: none;\n",
              "      fill: #1967D2;\n",
              "      height: 32px;\n",
              "      padding: 0 0 0 0;\n",
              "      width: 32px;\n",
              "    }\n",
              "\n",
              "    .colab-df-convert:hover {\n",
              "      background-color: #E2EBFA;\n",
              "      box-shadow: 0px 1px 2px rgba(60, 64, 67, 0.3), 0px 1px 3px 1px rgba(60, 64, 67, 0.15);\n",
              "      fill: #174EA6;\n",
              "    }\n",
              "\n",
              "    [theme=dark] .colab-df-convert {\n",
              "      background-color: #3B4455;\n",
              "      fill: #D2E3FC;\n",
              "    }\n",
              "\n",
              "    [theme=dark] .colab-df-convert:hover {\n",
              "      background-color: #434B5C;\n",
              "      box-shadow: 0px 1px 3px 1px rgba(0, 0, 0, 0.15);\n",
              "      filter: drop-shadow(0px 1px 2px rgba(0, 0, 0, 0.3));\n",
              "      fill: #FFFFFF;\n",
              "    }\n",
              "  </style>\n",
              "\n",
              "      <script>\n",
              "        const buttonEl =\n",
              "          document.querySelector('#df-f4ef5bde-8bad-4d61-bc92-85b4bc3ebf3a button.colab-df-convert');\n",
              "        buttonEl.style.display =\n",
              "          google.colab.kernel.accessAllowed ? 'block' : 'none';\n",
              "\n",
              "        async function convertToInteractive(key) {\n",
              "          const element = document.querySelector('#df-f4ef5bde-8bad-4d61-bc92-85b4bc3ebf3a');\n",
              "          const dataTable =\n",
              "            await google.colab.kernel.invokeFunction('convertToInteractive',\n",
              "                                                     [key], {});\n",
              "          if (!dataTable) return;\n",
              "\n",
              "          const docLinkHtml = 'Like what you see? Visit the ' +\n",
              "            '<a target=\"_blank\" href=https://colab.research.google.com/notebooks/data_table.ipynb>data table notebook</a>'\n",
              "            + ' to learn more about interactive tables.';\n",
              "          element.innerHTML = '';\n",
              "          dataTable['output_type'] = 'display_data';\n",
              "          await google.colab.output.renderOutput(dataTable, element);\n",
              "          const docLink = document.createElement('div');\n",
              "          docLink.innerHTML = docLinkHtml;\n",
              "          element.appendChild(docLink);\n",
              "        }\n",
              "      </script>\n",
              "    </div>\n",
              "  </div>\n",
              "  "
            ],
            "text/plain": [
              "  class cap-shape cap-surface  ... spore-print-color population habitat\n",
              "0     p         x           s  ...                 k          s       u\n",
              "1     e         x           s  ...                 n          n       g\n",
              "2     e         b           s  ...                 n          n       m\n",
              "3     p         x           y  ...                 k          s       u\n",
              "4     e         x           s  ...                 n          a       g\n",
              "\n",
              "[5 rows x 23 columns]"
            ]
          },
          "metadata": {},
          "execution_count": 130
        }
      ]
    },
    {
      "cell_type": "code",
      "source": [
        "#Observamos los nulos por atributo\n",
        "df.isnull().sum()"
      ],
      "metadata": {
        "colab": {
          "base_uri": "https://localhost:8080/"
        },
        "id": "mWZiEIx0hOP6",
        "outputId": "d17b150f-70fe-48dd-eee0-363698f4159e"
      },
      "execution_count": null,
      "outputs": [
        {
          "output_type": "execute_result",
          "data": {
            "text/plain": [
              "class                       0\n",
              "cap-shape                   0\n",
              "cap-surface                 0\n",
              "cap-color                   0\n",
              "bruises                     0\n",
              "odor                        0\n",
              "gill-attachment             0\n",
              "gill-spacing                0\n",
              "gill-size                   0\n",
              "gill-color                  0\n",
              "stalk-shape                 0\n",
              "stalk-root                  0\n",
              "stalk-surface-above-ring    0\n",
              "stalk-surface-below-ring    0\n",
              "stalk-color-above-ring      0\n",
              "stalk-color-below-ring      0\n",
              "veil-type                   0\n",
              "veil-color                  0\n",
              "ring-number                 0\n",
              "ring-type                   0\n",
              "spore-print-color           0\n",
              "population                  0\n",
              "habitat                     0\n",
              "dtype: int64"
            ]
          },
          "metadata": {},
          "execution_count": 131
        }
      ]
    },
    {
      "cell_type": "code",
      "source": [
        "#obersvamos categorias de la variable target\n",
        "df['class'].unique()"
      ],
      "metadata": {
        "colab": {
          "base_uri": "https://localhost:8080/"
        },
        "id": "nfsCtmMrjVr_",
        "outputId": "c11cffb8-c87a-407d-f0f4-e43eb4a98dd4"
      },
      "execution_count": null,
      "outputs": [
        {
          "output_type": "execute_result",
          "data": {
            "text/plain": [
              "array(['p', 'e'], dtype=object)"
            ]
          },
          "metadata": {},
          "execution_count": 132
        }
      ]
    },
    {
      "cell_type": "markdown",
      "source": [
        "Tenemos entonces 2 clasificaciones = edible---> comestible,poisonous--->toxico"
      ],
      "metadata": {
        "id": "Wt9bGZDekBea"
      }
    },
    {
      "cell_type": "markdown",
      "source": [
        "# TRANSFORMACION DEL DATASET"
      ],
      "metadata": {
        "id": "KN7Al6XWssUb"
      }
    },
    {
      "cell_type": "markdown",
      "source": [
        "## Convertir los strings unicos en enteros"
      ],
      "metadata": {
        "id": "Dz6cJ2-Ms72i"
      }
    },
    {
      "cell_type": "code",
      "source": [
        "#Importamos la libreria\n",
        "from sklearn.preprocessing import LabelEncoder\n",
        "labelencoder = LabelEncoder()\n",
        "\n",
        "#Tranformamos las columnas\n",
        "for col in df.columns:\n",
        "    df[col] = labelencoder.fit_transform(df[col])\n",
        "\n",
        "df.head()\n"
      ],
      "metadata": {
        "colab": {
          "base_uri": "https://localhost:8080/",
          "height": 322
        },
        "id": "a_f-ODBGjeP4",
        "outputId": "d5a9d91a-f49c-4e58-cbcf-5e3300fa65a0"
      },
      "execution_count": null,
      "outputs": [
        {
          "output_type": "execute_result",
          "data": {
            "text/html": [
              "\n",
              "  <div id=\"df-66fb4326-f48f-4038-90c9-67e2983087c2\">\n",
              "    <div class=\"colab-df-container\">\n",
              "      <div>\n",
              "<style scoped>\n",
              "    .dataframe tbody tr th:only-of-type {\n",
              "        vertical-align: middle;\n",
              "    }\n",
              "\n",
              "    .dataframe tbody tr th {\n",
              "        vertical-align: top;\n",
              "    }\n",
              "\n",
              "    .dataframe thead th {\n",
              "        text-align: right;\n",
              "    }\n",
              "</style>\n",
              "<table border=\"1\" class=\"dataframe\">\n",
              "  <thead>\n",
              "    <tr style=\"text-align: right;\">\n",
              "      <th></th>\n",
              "      <th>class</th>\n",
              "      <th>cap-shape</th>\n",
              "      <th>cap-surface</th>\n",
              "      <th>cap-color</th>\n",
              "      <th>bruises</th>\n",
              "      <th>odor</th>\n",
              "      <th>gill-attachment</th>\n",
              "      <th>gill-spacing</th>\n",
              "      <th>gill-size</th>\n",
              "      <th>gill-color</th>\n",
              "      <th>stalk-shape</th>\n",
              "      <th>stalk-root</th>\n",
              "      <th>stalk-surface-above-ring</th>\n",
              "      <th>stalk-surface-below-ring</th>\n",
              "      <th>stalk-color-above-ring</th>\n",
              "      <th>stalk-color-below-ring</th>\n",
              "      <th>veil-type</th>\n",
              "      <th>veil-color</th>\n",
              "      <th>ring-number</th>\n",
              "      <th>ring-type</th>\n",
              "      <th>spore-print-color</th>\n",
              "      <th>population</th>\n",
              "      <th>habitat</th>\n",
              "    </tr>\n",
              "  </thead>\n",
              "  <tbody>\n",
              "    <tr>\n",
              "      <th>0</th>\n",
              "      <td>1</td>\n",
              "      <td>5</td>\n",
              "      <td>2</td>\n",
              "      <td>4</td>\n",
              "      <td>1</td>\n",
              "      <td>6</td>\n",
              "      <td>1</td>\n",
              "      <td>0</td>\n",
              "      <td>1</td>\n",
              "      <td>4</td>\n",
              "      <td>0</td>\n",
              "      <td>3</td>\n",
              "      <td>2</td>\n",
              "      <td>2</td>\n",
              "      <td>7</td>\n",
              "      <td>7</td>\n",
              "      <td>0</td>\n",
              "      <td>2</td>\n",
              "      <td>1</td>\n",
              "      <td>4</td>\n",
              "      <td>2</td>\n",
              "      <td>3</td>\n",
              "      <td>5</td>\n",
              "    </tr>\n",
              "    <tr>\n",
              "      <th>1</th>\n",
              "      <td>0</td>\n",
              "      <td>5</td>\n",
              "      <td>2</td>\n",
              "      <td>9</td>\n",
              "      <td>1</td>\n",
              "      <td>0</td>\n",
              "      <td>1</td>\n",
              "      <td>0</td>\n",
              "      <td>0</td>\n",
              "      <td>4</td>\n",
              "      <td>0</td>\n",
              "      <td>2</td>\n",
              "      <td>2</td>\n",
              "      <td>2</td>\n",
              "      <td>7</td>\n",
              "      <td>7</td>\n",
              "      <td>0</td>\n",
              "      <td>2</td>\n",
              "      <td>1</td>\n",
              "      <td>4</td>\n",
              "      <td>3</td>\n",
              "      <td>2</td>\n",
              "      <td>1</td>\n",
              "    </tr>\n",
              "    <tr>\n",
              "      <th>2</th>\n",
              "      <td>0</td>\n",
              "      <td>0</td>\n",
              "      <td>2</td>\n",
              "      <td>8</td>\n",
              "      <td>1</td>\n",
              "      <td>3</td>\n",
              "      <td>1</td>\n",
              "      <td>0</td>\n",
              "      <td>0</td>\n",
              "      <td>5</td>\n",
              "      <td>0</td>\n",
              "      <td>2</td>\n",
              "      <td>2</td>\n",
              "      <td>2</td>\n",
              "      <td>7</td>\n",
              "      <td>7</td>\n",
              "      <td>0</td>\n",
              "      <td>2</td>\n",
              "      <td>1</td>\n",
              "      <td>4</td>\n",
              "      <td>3</td>\n",
              "      <td>2</td>\n",
              "      <td>3</td>\n",
              "    </tr>\n",
              "    <tr>\n",
              "      <th>3</th>\n",
              "      <td>1</td>\n",
              "      <td>5</td>\n",
              "      <td>3</td>\n",
              "      <td>8</td>\n",
              "      <td>1</td>\n",
              "      <td>6</td>\n",
              "      <td>1</td>\n",
              "      <td>0</td>\n",
              "      <td>1</td>\n",
              "      <td>5</td>\n",
              "      <td>0</td>\n",
              "      <td>3</td>\n",
              "      <td>2</td>\n",
              "      <td>2</td>\n",
              "      <td>7</td>\n",
              "      <td>7</td>\n",
              "      <td>0</td>\n",
              "      <td>2</td>\n",
              "      <td>1</td>\n",
              "      <td>4</td>\n",
              "      <td>2</td>\n",
              "      <td>3</td>\n",
              "      <td>5</td>\n",
              "    </tr>\n",
              "    <tr>\n",
              "      <th>4</th>\n",
              "      <td>0</td>\n",
              "      <td>5</td>\n",
              "      <td>2</td>\n",
              "      <td>3</td>\n",
              "      <td>0</td>\n",
              "      <td>5</td>\n",
              "      <td>1</td>\n",
              "      <td>1</td>\n",
              "      <td>0</td>\n",
              "      <td>4</td>\n",
              "      <td>1</td>\n",
              "      <td>3</td>\n",
              "      <td>2</td>\n",
              "      <td>2</td>\n",
              "      <td>7</td>\n",
              "      <td>7</td>\n",
              "      <td>0</td>\n",
              "      <td>2</td>\n",
              "      <td>1</td>\n",
              "      <td>0</td>\n",
              "      <td>3</td>\n",
              "      <td>0</td>\n",
              "      <td>1</td>\n",
              "    </tr>\n",
              "  </tbody>\n",
              "</table>\n",
              "</div>\n",
              "      <button class=\"colab-df-convert\" onclick=\"convertToInteractive('df-66fb4326-f48f-4038-90c9-67e2983087c2')\"\n",
              "              title=\"Convert this dataframe to an interactive table.\"\n",
              "              style=\"display:none;\">\n",
              "        \n",
              "  <svg xmlns=\"http://www.w3.org/2000/svg\" height=\"24px\"viewBox=\"0 0 24 24\"\n",
              "       width=\"24px\">\n",
              "    <path d=\"M0 0h24v24H0V0z\" fill=\"none\"/>\n",
              "    <path d=\"M18.56 5.44l.94 2.06.94-2.06 2.06-.94-2.06-.94-.94-2.06-.94 2.06-2.06.94zm-11 1L8.5 8.5l.94-2.06 2.06-.94-2.06-.94L8.5 2.5l-.94 2.06-2.06.94zm10 10l.94 2.06.94-2.06 2.06-.94-2.06-.94-.94-2.06-.94 2.06-2.06.94z\"/><path d=\"M17.41 7.96l-1.37-1.37c-.4-.4-.92-.59-1.43-.59-.52 0-1.04.2-1.43.59L10.3 9.45l-7.72 7.72c-.78.78-.78 2.05 0 2.83L4 21.41c.39.39.9.59 1.41.59.51 0 1.02-.2 1.41-.59l7.78-7.78 2.81-2.81c.8-.78.8-2.07 0-2.86zM5.41 20L4 18.59l7.72-7.72 1.47 1.35L5.41 20z\"/>\n",
              "  </svg>\n",
              "      </button>\n",
              "      \n",
              "  <style>\n",
              "    .colab-df-container {\n",
              "      display:flex;\n",
              "      flex-wrap:wrap;\n",
              "      gap: 12px;\n",
              "    }\n",
              "\n",
              "    .colab-df-convert {\n",
              "      background-color: #E8F0FE;\n",
              "      border: none;\n",
              "      border-radius: 50%;\n",
              "      cursor: pointer;\n",
              "      display: none;\n",
              "      fill: #1967D2;\n",
              "      height: 32px;\n",
              "      padding: 0 0 0 0;\n",
              "      width: 32px;\n",
              "    }\n",
              "\n",
              "    .colab-df-convert:hover {\n",
              "      background-color: #E2EBFA;\n",
              "      box-shadow: 0px 1px 2px rgba(60, 64, 67, 0.3), 0px 1px 3px 1px rgba(60, 64, 67, 0.15);\n",
              "      fill: #174EA6;\n",
              "    }\n",
              "\n",
              "    [theme=dark] .colab-df-convert {\n",
              "      background-color: #3B4455;\n",
              "      fill: #D2E3FC;\n",
              "    }\n",
              "\n",
              "    [theme=dark] .colab-df-convert:hover {\n",
              "      background-color: #434B5C;\n",
              "      box-shadow: 0px 1px 3px 1px rgba(0, 0, 0, 0.15);\n",
              "      filter: drop-shadow(0px 1px 2px rgba(0, 0, 0, 0.3));\n",
              "      fill: #FFFFFF;\n",
              "    }\n",
              "  </style>\n",
              "\n",
              "      <script>\n",
              "        const buttonEl =\n",
              "          document.querySelector('#df-66fb4326-f48f-4038-90c9-67e2983087c2 button.colab-df-convert');\n",
              "        buttonEl.style.display =\n",
              "          google.colab.kernel.accessAllowed ? 'block' : 'none';\n",
              "\n",
              "        async function convertToInteractive(key) {\n",
              "          const element = document.querySelector('#df-66fb4326-f48f-4038-90c9-67e2983087c2');\n",
              "          const dataTable =\n",
              "            await google.colab.kernel.invokeFunction('convertToInteractive',\n",
              "                                                     [key], {});\n",
              "          if (!dataTable) return;\n",
              "\n",
              "          const docLinkHtml = 'Like what you see? Visit the ' +\n",
              "            '<a target=\"_blank\" href=https://colab.research.google.com/notebooks/data_table.ipynb>data table notebook</a>'\n",
              "            + ' to learn more about interactive tables.';\n",
              "          element.innerHTML = '';\n",
              "          dataTable['output_type'] = 'display_data';\n",
              "          await google.colab.output.renderOutput(dataTable, element);\n",
              "          const docLink = document.createElement('div');\n",
              "          docLink.innerHTML = docLinkHtml;\n",
              "          element.appendChild(docLink);\n",
              "        }\n",
              "      </script>\n",
              "    </div>\n",
              "  </div>\n",
              "  "
            ],
            "text/plain": [
              "   class  cap-shape  cap-surface  ...  spore-print-color  population  habitat\n",
              "0      1          5            2  ...                  2           3        5\n",
              "1      0          5            2  ...                  3           2        1\n",
              "2      0          0            2  ...                  3           2        3\n",
              "3      1          5            3  ...                  2           3        5\n",
              "4      0          5            2  ...                  3           0        1\n",
              "\n",
              "[5 rows x 23 columns]"
            ]
          },
          "metadata": {},
          "execution_count": 133
        }
      ]
    },
    {
      "cell_type": "code",
      "source": [
        "#Revisamos los labels en una oclumna de ejemlplo\n",
        "print(df['stalk-root'].unique())"
      ],
      "metadata": {
        "colab": {
          "base_uri": "https://localhost:8080/"
        },
        "id": "OWJGiiMus6j5",
        "outputId": "0a1b7367-c974-45f6-b691-adde8be39c4d"
      },
      "execution_count": null,
      "outputs": [
        {
          "output_type": "stream",
          "name": "stdout",
          "text": [
            "[3 2 1 4 0]\n"
          ]
        }
      ]
    },
    {
      "cell_type": "code",
      "source": [
        "#VEMOS CUAL ES LA DISTRIBUCION DE LOS GRUPOS\n",
        "print(df.groupby('class').size())"
      ],
      "metadata": {
        "colab": {
          "base_uri": "https://localhost:8080/"
        },
        "id": "q8epSmZWuzgC",
        "outputId": "1bbfb4b2-f8dc-4dc3-b825-f06c4d536bf4"
      },
      "execution_count": null,
      "outputs": [
        {
          "output_type": "stream",
          "name": "stdout",
          "text": [
            "class\n",
            "0    4208\n",
            "1    3916\n",
            "dtype: int64\n"
          ]
        }
      ]
    },
    {
      "cell_type": "markdown",
      "source": [
        "Hay 4208 registros comestibles y 3916 toxicos"
      ],
      "metadata": {
        "id": "lRMPfgKNvKSH"
      }
    },
    {
      "cell_type": "markdown",
      "source": [
        "## Distribucion de la data con respecto al target"
      ],
      "metadata": {
        "id": "JjJCV48Cv8zI"
      }
    },
    {
      "cell_type": "code",
      "source": [
        "#Hacemos un boxplot\n",
        "for col in df.columns:\n",
        "  ax = sns.boxplot(x = 'class',y =col, data = df)\n",
        "  ax = sns.stripplot(x = 'class',y =col, data = df, jitter =True, edgecolor = 'gray')\n",
        "  plt.show()\n"
      ],
      "metadata": {
        "colab": {
          "base_uri": "https://localhost:8080/",
          "height": 1000
        },
        "id": "MxgVfvcdvGot",
        "outputId": "e380df15-82dd-41f2-df5c-d7712cede991"
      },
      "execution_count": null,
      "outputs": [
        {
          "output_type": "display_data",
          "data": {
            "image/png": "[encoded data removed]",
            "text/plain": [
              "<Figure size 432x288 with 1 Axes>"
            ]
          },
          "metadata": {
            "needs_background": "light"
          }
        },
        {
          "output_type": "display_data",
          "data": {
            "image/png": "[encoded data removed]",
            "text/plain": [
              "<Figure size 432x288 with 1 Axes>"
            ]
          },
          "metadata": {
            "needs_background": "light"
          }
        },
        {
          "output_type": "display_data",
          "data": {
            "image/png": "[encoded data removed]",
            "text/plain": [
              "<Figure size 432x288 with 1 Axes>"
            ]
          },
          "metadata": {
            "needs_background": "light"
          }
        },
        {
          "output_type": "display_data",
          "data": {
            "image/png": "[encoded data removed]",
            "text/plain": [
              "<Figure size 432x288 with 1 Axes>"
            ]
          },
          "metadata": {
            "needs_background": "light"
          }
        },
        {
          "output_type": "display_data",
          "data": {
            "image/png": "[encoded data removed]",
            "text/plain": [
              "<Figure size 432x288 with 1 Axes>"
            ]
          },
          "metadata": {
            "needs_background": "light"
          }
        },
        {
          "output_type": "display_data",
          "data": {
            "image/png": "[encoded data removed]",
            "text/plain": [
              "<Figure size 432x288 with 1 Axes>"
            ]
          },
          "metadata": {
            "needs_background": "light"
          }
        },
        {
          "output_type": "display_data",
          "data": {
            "image/png": "[encoded data removed]",
            "text/plain": [
              "<Figure size 432x288 with 1 Axes>"
            ]
          },
          "metadata": {
            "needs_background": "light"
          }
        },
        {
          "output_type": "display_data",
          "data": {
            "image/png": "[encoded data removed]",
            "text/plain": [
              "<Figure size 432x288 with 1 Axes>"
            ]
          },
          "metadata": {
            "needs_background": "light"
          }
        },
        {
          "output_type": "display_data",
          "data": {
            "image/png": "[encoded data removed]",
            "text/plain": [
              "<Figure size 432x288 with 1 Axes>"
            ]
          },
          "metadata": {
            "needs_background": "light"
          }
        },
        {
          "output_type": "display_data",
          "data": {
            "image/png": "[encoded data removed]",
            "text/plain": [
              "<Figure size 432x288 with 1 Axes>"
            ]
          },
          "metadata": {
            "needs_background": "light"
          }
        },
        {
          "output_type": "display_data",
          "data": {
            "image/png": "[encoded data removed]",
            "text/plain": [
              "<Figure size 432x288 with 1 Axes>"
            ]
          },
          "metadata": {
            "needs_background": "light"
          }
        },
        {
          "output_type": "display_data",
          "data": {
            "image/png": "[encoded data removed]",
            "text/plain": [
              "<Figure size 432x288 with 1 Axes>"
            ]
          },
          "metadata": {
            "needs_background": "light"
          }
        },
        {
          "output_type": "display_data",
          "data": {
            "image/png": "[encoded data removed]",
            "text/plain": [
              "<Figure size 432x288 with 1 Axes>"
            ]
          },
          "metadata": {
            "needs_background": "light"
          }
        },
        {
          "output_type": "display_data",
          "data": {
            "image/png": "[encoded data removed]",
            "text/plain": [
              "<Figure size 432x288 with 1 Axes>"
            ]
          },
          "metadata": {
            "needs_background": "light"
          }
        },
        {
          "output_type": "display_data",
          "data": {
            "image/png": "[encoded data removed]",
            "text/plain": [
              "<Figure size 432x288 with 1 Axes>"
            ]
          },
          "metadata": {
            "needs_background": "light"
          }
        },
        {
          "output_type": "display_data",
          "data": {
            "image/png": "[encoded data removed]",
            "text/plain": [
              "<Figure size 432x288 with 1 Axes>"
            ]
          },
          "metadata": {
            "needs_background": "light"
          }
        },
        {
          "output_type": "display_data",
          "data": {
            "image/png": "[encoded data removed]",
            "text/plain": [
              "<Figure size 432x288 with 1 Axes>"
            ]
          },
          "metadata": {
            "needs_background": "light"
          }
        },
        {
          "output_type": "display_data",
          "data": {
            "image/png": "[encoded data removed]",
            "text/plain": [
              "<Figure size 432x288 with 1 Axes>"
            ]
          },
          "metadata": {
            "needs_background": "light"
          }
        },
        {
          "output_type": "display_data",
          "data": {
            "image/png": "[encoded data removed]",
            "text/plain": [
              "<Figure size 432x288 with 1 Axes>"
            ]
          },
          "metadata": {
            "needs_background": "light"
          }
        },
        {
          "output_type": "display_data",
          "data": {
            "image/png": "[encoded data removed]",
            "text/plain": [
              "<Figure size 432x288 with 1 Axes>"
            ]
          },
          "metadata": {
            "needs_background": "light"
          }
        },
        {
          "output_type": "display_data",
          "data": {
            "image/png": "[encoded data removed]",
            "text/plain": [
              "<Figure size 432x288 with 1 Axes>"
            ]
          },
          "metadata": {
            "needs_background": "light"
          }
        },
        {
          "output_type": "display_data",
          "data": {
            "image/png": "[encoded data removed]",
            "text/plain": [
              "<Figure size 432x288 with 1 Axes>"
            ]
          },
          "metadata": {
            "needs_background": "light"
          }
        },
        {
          "output_type": "display_data",
          "data": {
            "image/png": "[encoded data removed]",
            "text/plain": [
              "<Figure size 432x288 with 1 Axes>"
            ]
          },
          "metadata": {
            "needs_background": "light"
          }
        }
      ]
    },
    {
      "cell_type": "markdown",
      "source": [
        "## Separamos features de target"
      ],
      "metadata": {
        "id": "EGsG4dzty0yb"
      }
    },
    {
      "cell_type": "code",
      "source": [
        "y = df.iloc[:,0]\n",
        "x = df.iloc[:,1:]"
      ],
      "metadata": {
        "id": "R52wseHQwElz"
      },
      "execution_count": null,
      "outputs": []
    },
    {
      "cell_type": "code",
      "source": [
        "print(x.head())"
      ],
      "metadata": {
        "colab": {
          "base_uri": "https://localhost:8080/"
        },
        "id": "IEuGUYKfWaVR",
        "outputId": "fee9f092-ae64-4ed6-dc39-64b76f6cde0b"
      },
      "execution_count": null,
      "outputs": [
        {
          "output_type": "stream",
          "name": "stdout",
          "text": [
            "   cap-shape  cap-surface  cap-color  ...  spore-print-color  population  habitat\n",
            "0          5            2          4  ...                  2           3        5\n",
            "1          5            2          9  ...                  3           2        1\n",
            "2          0            2          8  ...                  3           2        3\n",
            "3          5            3          8  ...                  2           3        5\n",
            "4          5            2          3  ...                  3           0        1\n",
            "\n",
            "[5 rows x 22 columns]\n"
          ]
        }
      ]
    },
    {
      "cell_type": "code",
      "source": [
        "x.describe()"
      ],
      "metadata": {
        "colab": {
          "base_uri": "https://localhost:8080/",
          "height": 398
        },
        "id": "ttz5AWL8zUrO",
        "outputId": "687440f5-26bf-4c87-e2e3-5bccb9bdfb63"
      },
      "execution_count": null,
      "outputs": [
        {
          "output_type": "execute_result",
          "data": {
            "text/html": [
              "\n",
              "  <div id=\"df-b46a6ec1-2a40-4296-a247-89ccbb3ea9ca\">\n",
              "    <div class=\"colab-df-container\">\n",
              "      <div>\n",
              "<style scoped>\n",
              "    .dataframe tbody tr th:only-of-type {\n",
              "        vertical-align: middle;\n",
              "    }\n",
              "\n",
              "    .dataframe tbody tr th {\n",
              "        vertical-align: top;\n",
              "    }\n",
              "\n",
              "    .dataframe thead th {\n",
              "        text-align: right;\n",
              "    }\n",
              "</style>\n",
              "<table border=\"1\" class=\"dataframe\">\n",
              "  <thead>\n",
              "    <tr style=\"text-align: right;\">\n",
              "      <th></th>\n",
              "      <th>cap-shape</th>\n",
              "      <th>cap-surface</th>\n",
              "      <th>cap-color</th>\n",
              "      <th>bruises</th>\n",
              "      <th>odor</th>\n",
              "      <th>gill-attachment</th>\n",
              "      <th>gill-spacing</th>\n",
              "      <th>gill-size</th>\n",
              "      <th>gill-color</th>\n",
              "      <th>stalk-shape</th>\n",
              "      <th>stalk-root</th>\n",
              "      <th>stalk-surface-above-ring</th>\n",
              "      <th>stalk-surface-below-ring</th>\n",
              "      <th>stalk-color-above-ring</th>\n",
              "      <th>stalk-color-below-ring</th>\n",
              "      <th>veil-type</th>\n",
              "      <th>veil-color</th>\n",
              "      <th>ring-number</th>\n",
              "      <th>ring-type</th>\n",
              "      <th>spore-print-color</th>\n",
              "      <th>population</th>\n",
              "      <th>habitat</th>\n",
              "    </tr>\n",
              "  </thead>\n",
              "  <tbody>\n",
              "    <tr>\n",
              "      <th>count</th>\n",
              "      <td>8124.000000</td>\n",
              "      <td>8124.000000</td>\n",
              "      <td>8124.000000</td>\n",
              "      <td>8124.000000</td>\n",
              "      <td>8124.000000</td>\n",
              "      <td>8124.000000</td>\n",
              "      <td>8124.000000</td>\n",
              "      <td>8124.000000</td>\n",
              "      <td>8124.000000</td>\n",
              "      <td>8124.000000</td>\n",
              "      <td>8124.000000</td>\n",
              "      <td>8124.000000</td>\n",
              "      <td>8124.000000</td>\n",
              "      <td>8124.000000</td>\n",
              "      <td>8124.000000</td>\n",
              "      <td>8124.0</td>\n",
              "      <td>8124.000000</td>\n",
              "      <td>8124.000000</td>\n",
              "      <td>8124.000000</td>\n",
              "      <td>8124.000000</td>\n",
              "      <td>8124.000000</td>\n",
              "      <td>8124.000000</td>\n",
              "    </tr>\n",
              "    <tr>\n",
              "      <th>mean</th>\n",
              "      <td>3.348104</td>\n",
              "      <td>1.827671</td>\n",
              "      <td>4.504677</td>\n",
              "      <td>0.415559</td>\n",
              "      <td>4.144756</td>\n",
              "      <td>0.974151</td>\n",
              "      <td>0.161497</td>\n",
              "      <td>0.309207</td>\n",
              "      <td>4.810684</td>\n",
              "      <td>0.567208</td>\n",
              "      <td>1.109798</td>\n",
              "      <td>1.575086</td>\n",
              "      <td>1.603644</td>\n",
              "      <td>5.816347</td>\n",
              "      <td>5.794682</td>\n",
              "      <td>0.0</td>\n",
              "      <td>1.965534</td>\n",
              "      <td>1.069424</td>\n",
              "      <td>2.291974</td>\n",
              "      <td>3.596750</td>\n",
              "      <td>3.644018</td>\n",
              "      <td>1.508616</td>\n",
              "    </tr>\n",
              "    <tr>\n",
              "      <th>std</th>\n",
              "      <td>1.604329</td>\n",
              "      <td>1.229873</td>\n",
              "      <td>2.545821</td>\n",
              "      <td>0.492848</td>\n",
              "      <td>2.103729</td>\n",
              "      <td>0.158695</td>\n",
              "      <td>0.368011</td>\n",
              "      <td>0.462195</td>\n",
              "      <td>3.540359</td>\n",
              "      <td>0.495493</td>\n",
              "      <td>1.061106</td>\n",
              "      <td>0.621459</td>\n",
              "      <td>0.675974</td>\n",
              "      <td>1.901747</td>\n",
              "      <td>1.907291</td>\n",
              "      <td>0.0</td>\n",
              "      <td>0.242669</td>\n",
              "      <td>0.271064</td>\n",
              "      <td>1.801672</td>\n",
              "      <td>2.382663</td>\n",
              "      <td>1.252082</td>\n",
              "      <td>1.719975</td>\n",
              "    </tr>\n",
              "    <tr>\n",
              "      <th>min</th>\n",
              "      <td>0.000000</td>\n",
              "      <td>0.000000</td>\n",
              "      <td>0.000000</td>\n",
              "      <td>0.000000</td>\n",
              "      <td>0.000000</td>\n",
              "      <td>0.000000</td>\n",
              "      <td>0.000000</td>\n",
              "      <td>0.000000</td>\n",
              "      <td>0.000000</td>\n",
              "      <td>0.000000</td>\n",
              "      <td>0.000000</td>\n",
              "      <td>0.000000</td>\n",
              "      <td>0.000000</td>\n",
              "      <td>0.000000</td>\n",
              "      <td>0.000000</td>\n",
              "      <td>0.0</td>\n",
              "      <td>0.000000</td>\n",
              "      <td>0.000000</td>\n",
              "      <td>0.000000</td>\n",
              "      <td>0.000000</td>\n",
              "      <td>0.000000</td>\n",
              "      <td>0.000000</td>\n",
              "    </tr>\n",
              "    <tr>\n",
              "      <th>25%</th>\n",
              "      <td>2.000000</td>\n",
              "      <td>0.000000</td>\n",
              "      <td>3.000000</td>\n",
              "      <td>0.000000</td>\n",
              "      <td>2.000000</td>\n",
              "      <td>1.000000</td>\n",
              "      <td>0.000000</td>\n",
              "      <td>0.000000</td>\n",
              "      <td>2.000000</td>\n",
              "      <td>0.000000</td>\n",
              "      <td>0.000000</td>\n",
              "      <td>1.000000</td>\n",
              "      <td>1.000000</td>\n",
              "      <td>6.000000</td>\n",
              "      <td>6.000000</td>\n",
              "      <td>0.0</td>\n",
              "      <td>2.000000</td>\n",
              "      <td>1.000000</td>\n",
              "      <td>0.000000</td>\n",
              "      <td>2.000000</td>\n",
              "      <td>3.000000</td>\n",
              "      <td>0.000000</td>\n",
              "    </tr>\n",
              "    <tr>\n",
              "      <th>50%</th>\n",
              "      <td>3.000000</td>\n",
              "      <td>2.000000</td>\n",
              "      <td>4.000000</td>\n",
              "      <td>0.000000</td>\n",
              "      <td>5.000000</td>\n",
              "      <td>1.000000</td>\n",
              "      <td>0.000000</td>\n",
              "      <td>0.000000</td>\n",
              "      <td>5.000000</td>\n",
              "      <td>1.000000</td>\n",
              "      <td>1.000000</td>\n",
              "      <td>2.000000</td>\n",
              "      <td>2.000000</td>\n",
              "      <td>7.000000</td>\n",
              "      <td>7.000000</td>\n",
              "      <td>0.0</td>\n",
              "      <td>2.000000</td>\n",
              "      <td>1.000000</td>\n",
              "      <td>2.000000</td>\n",
              "      <td>3.000000</td>\n",
              "      <td>4.000000</td>\n",
              "      <td>1.000000</td>\n",
              "    </tr>\n",
              "    <tr>\n",
              "      <th>75%</th>\n",
              "      <td>5.000000</td>\n",
              "      <td>3.000000</td>\n",
              "      <td>8.000000</td>\n",
              "      <td>1.000000</td>\n",
              "      <td>5.000000</td>\n",
              "      <td>1.000000</td>\n",
              "      <td>0.000000</td>\n",
              "      <td>1.000000</td>\n",
              "      <td>7.000000</td>\n",
              "      <td>1.000000</td>\n",
              "      <td>1.000000</td>\n",
              "      <td>2.000000</td>\n",
              "      <td>2.000000</td>\n",
              "      <td>7.000000</td>\n",
              "      <td>7.000000</td>\n",
              "      <td>0.0</td>\n",
              "      <td>2.000000</td>\n",
              "      <td>1.000000</td>\n",
              "      <td>4.000000</td>\n",
              "      <td>7.000000</td>\n",
              "      <td>4.000000</td>\n",
              "      <td>2.000000</td>\n",
              "    </tr>\n",
              "    <tr>\n",
              "      <th>max</th>\n",
              "      <td>5.000000</td>\n",
              "      <td>3.000000</td>\n",
              "      <td>9.000000</td>\n",
              "      <td>1.000000</td>\n",
              "      <td>8.000000</td>\n",
              "      <td>1.000000</td>\n",
              "      <td>1.000000</td>\n",
              "      <td>1.000000</td>\n",
              "      <td>11.000000</td>\n",
              "      <td>1.000000</td>\n",
              "      <td>4.000000</td>\n",
              "      <td>3.000000</td>\n",
              "      <td>3.000000</td>\n",
              "      <td>8.000000</td>\n",
              "      <td>8.000000</td>\n",
              "      <td>0.0</td>\n",
              "      <td>3.000000</td>\n",
              "      <td>2.000000</td>\n",
              "      <td>4.000000</td>\n",
              "      <td>8.000000</td>\n",
              "      <td>5.000000</td>\n",
              "      <td>6.000000</td>\n",
              "    </tr>\n",
              "  </tbody>\n",
              "</table>\n",
              "</div>\n",
              "      <button class=\"colab-df-convert\" onclick=\"convertToInteractive('df-b46a6ec1-2a40-4296-a247-89ccbb3ea9ca')\"\n",
              "              title=\"Convert this dataframe to an interactive table.\"\n",
              "              style=\"display:none;\">\n",
              "        \n",
              "  <svg xmlns=\"http://www.w3.org/2000/svg\" height=\"24px\"viewBox=\"0 0 24 24\"\n",
              "       width=\"24px\">\n",
              "    <path d=\"M0 0h24v24H0V0z\" fill=\"none\"/>\n",
              "    <path d=\"M18.56 5.44l.94 2.06.94-2.06 2.06-.94-2.06-.94-.94-2.06-.94 2.06-2.06.94zm-11 1L8.5 8.5l.94-2.06 2.06-.94-2.06-.94L8.5 2.5l-.94 2.06-2.06.94zm10 10l.94 2.06.94-2.06 2.06-.94-2.06-.94-.94-2.06-.94 2.06-2.06.94z\"/><path d=\"M17.41 7.96l-1.37-1.37c-.4-.4-.92-.59-1.43-.59-.52 0-1.04.2-1.43.59L10.3 9.45l-7.72 7.72c-.78.78-.78 2.05 0 2.83L4 21.41c.39.39.9.59 1.41.59.51 0 1.02-.2 1.41-.59l7.78-7.78 2.81-2.81c.8-.78.8-2.07 0-2.86zM5.41 20L4 18.59l7.72-7.72 1.47 1.35L5.41 20z\"/>\n",
              "  </svg>\n",
              "      </button>\n",
              "      \n",
              "  <style>\n",
              "    .colab-df-container {\n",
              "      display:flex;\n",
              "      flex-wrap:wrap;\n",
              "      gap: 12px;\n",
              "    }\n",
              "\n",
              "    .colab-df-convert {\n",
              "      background-color: #E8F0FE;\n",
              "      border: none;\n",
              "      border-radius: 50%;\n",
              "      cursor: pointer;\n",
              "      display: none;\n",
              "      fill: #1967D2;\n",
              "      height: 32px;\n",
              "      padding: 0 0 0 0;\n",
              "      width: 32px;\n",
              "    }\n",
              "\n",
              "    .colab-df-convert:hover {\n",
              "      background-color: #E2EBFA;\n",
              "      box-shadow: 0px 1px 2px rgba(60, 64, 67, 0.3), 0px 1px 3px 1px rgba(60, 64, 67, 0.15);\n",
              "      fill: #174EA6;\n",
              "    }\n",
              "\n",
              "    [theme=dark] .colab-df-convert {\n",
              "      background-color: #3B4455;\n",
              "      fill: #D2E3FC;\n",
              "    }\n",
              "\n",
              "    [theme=dark] .colab-df-convert:hover {\n",
              "      background-color: #434B5C;\n",
              "      box-shadow: 0px 1px 3px 1px rgba(0, 0, 0, 0.15);\n",
              "      filter: drop-shadow(0px 1px 2px rgba(0, 0, 0, 0.3));\n",
              "      fill: #FFFFFF;\n",
              "    }\n",
              "  </style>\n",
              "\n",
              "      <script>\n",
              "        const buttonEl =\n",
              "          document.querySelector('#df-b46a6ec1-2a40-4296-a247-89ccbb3ea9ca button.colab-df-convert');\n",
              "        buttonEl.style.display =\n",
              "          google.colab.kernel.accessAllowed ? 'block' : 'none';\n",
              "\n",
              "        async function convertToInteractive(key) {\n",
              "          const element = document.querySelector('#df-b46a6ec1-2a40-4296-a247-89ccbb3ea9ca');\n",
              "          const dataTable =\n",
              "            await google.colab.kernel.invokeFunction('convertToInteractive',\n",
              "                                                     [key], {});\n",
              "          if (!dataTable) return;\n",
              "\n",
              "          const docLinkHtml = 'Like what you see? Visit the ' +\n",
              "            '<a target=\"_blank\" href=https://colab.research.google.com/notebooks/data_table.ipynb>data table notebook</a>'\n",
              "            + ' to learn more about interactive tables.';\n",
              "          element.innerHTML = '';\n",
              "          dataTable['output_type'] = 'display_data';\n",
              "          await google.colab.output.renderOutput(dataTable, element);\n",
              "          const docLink = document.createElement('div');\n",
              "          docLink.innerHTML = docLinkHtml;\n",
              "          element.appendChild(docLink);\n",
              "        }\n",
              "      </script>\n",
              "    </div>\n",
              "  </div>\n",
              "  "
            ],
            "text/plain": [
              "         cap-shape  cap-surface  ...   population      habitat\n",
              "count  8124.000000  8124.000000  ...  8124.000000  8124.000000\n",
              "mean      3.348104     1.827671  ...     3.644018     1.508616\n",
              "std       1.604329     1.229873  ...     1.252082     1.719975\n",
              "min       0.000000     0.000000  ...     0.000000     0.000000\n",
              "25%       2.000000     0.000000  ...     3.000000     0.000000\n",
              "50%       3.000000     2.000000  ...     4.000000     1.000000\n",
              "75%       5.000000     3.000000  ...     4.000000     2.000000\n",
              "max       5.000000     3.000000  ...     5.000000     6.000000\n",
              "\n",
              "[8 rows x 22 columns]"
            ]
          },
          "metadata": {},
          "execution_count": 139
        }
      ]
    },
    {
      "cell_type": "markdown",
      "source": [
        "## Observamos correlacion de las variables"
      ],
      "metadata": {
        "id": "IDobWjLz0dRv"
      }
    },
    {
      "cell_type": "code",
      "source": [
        ""
      ],
      "metadata": {
        "id": "RJYUw_EWheK6"
      },
      "execution_count": null,
      "outputs": []
    },
    {
      "cell_type": "code",
      "source": [
        "df.corr()"
      ],
      "metadata": {
        "colab": {
          "base_uri": "https://localhost:8080/",
          "height": 1000
        },
        "id": "JsOrNMEvzwuA",
        "outputId": "4100743f-311e-4d17-cc33-8acf7fe63fb6"
      },
      "execution_count": null,
      "outputs": [
        {
          "output_type": "execute_result",
          "data": {
            "text/html": [
              "\n",
              "  <div id=\"df-55c6d1fe-fd3e-40b5-8838-e933c1705886\">\n",
              "    <div class=\"colab-df-container\">\n",
              "      <div>\n",
              "<style scoped>\n",
              "    .dataframe tbody tr th:only-of-type {\n",
              "        vertical-align: middle;\n",
              "    }\n",
              "\n",
              "    .dataframe tbody tr th {\n",
              "        vertical-align: top;\n",
              "    }\n",
              "\n",
              "    .dataframe thead th {\n",
              "        text-align: right;\n",
              "    }\n",
              "</style>\n",
              "<table border=\"1\" class=\"dataframe\">\n",
              "  <thead>\n",
              "    <tr style=\"text-align: right;\">\n",
              "      <th></th>\n",
              "      <th>class</th>\n",
              "      <th>cap-shape</th>\n",
              "      <th>cap-surface</th>\n",
              "      <th>cap-color</th>\n",
              "      <th>bruises</th>\n",
              "      <th>odor</th>\n",
              "      <th>gill-attachment</th>\n",
              "      <th>gill-spacing</th>\n",
              "      <th>gill-size</th>\n",
              "      <th>gill-color</th>\n",
              "      <th>stalk-shape</th>\n",
              "      <th>stalk-root</th>\n",
              "      <th>stalk-surface-above-ring</th>\n",
              "      <th>stalk-surface-below-ring</th>\n",
              "      <th>stalk-color-above-ring</th>\n",
              "      <th>stalk-color-below-ring</th>\n",
              "      <th>veil-type</th>\n",
              "      <th>veil-color</th>\n",
              "      <th>ring-number</th>\n",
              "      <th>ring-type</th>\n",
              "      <th>spore-print-color</th>\n",
              "      <th>population</th>\n",
              "      <th>habitat</th>\n",
              "    </tr>\n",
              "  </thead>\n",
              "  <tbody>\n",
              "    <tr>\n",
              "      <th>class</th>\n",
              "      <td>1.000000</td>\n",
              "      <td>0.052951</td>\n",
              "      <td>0.178446</td>\n",
              "      <td>-0.031384</td>\n",
              "      <td>-0.501530</td>\n",
              "      <td>-0.093552</td>\n",
              "      <td>0.129200</td>\n",
              "      <td>-0.348387</td>\n",
              "      <td>0.540024</td>\n",
              "      <td>-0.530566</td>\n",
              "      <td>-0.102019</td>\n",
              "      <td>-0.379361</td>\n",
              "      <td>-0.334593</td>\n",
              "      <td>-0.298801</td>\n",
              "      <td>-0.154003</td>\n",
              "      <td>-0.146730</td>\n",
              "      <td>NaN</td>\n",
              "      <td>0.145142</td>\n",
              "      <td>-0.214366</td>\n",
              "      <td>-0.411771</td>\n",
              "      <td>0.171961</td>\n",
              "      <td>0.298686</td>\n",
              "      <td>0.217179</td>\n",
              "    </tr>\n",
              "    <tr>\n",
              "      <th>cap-shape</th>\n",
              "      <td>0.052951</td>\n",
              "      <td>1.000000</td>\n",
              "      <td>-0.050454</td>\n",
              "      <td>-0.048203</td>\n",
              "      <td>-0.035374</td>\n",
              "      <td>-0.021935</td>\n",
              "      <td>0.078865</td>\n",
              "      <td>0.013196</td>\n",
              "      <td>0.054050</td>\n",
              "      <td>-0.006039</td>\n",
              "      <td>0.063794</td>\n",
              "      <td>0.030191</td>\n",
              "      <td>-0.030417</td>\n",
              "      <td>-0.032591</td>\n",
              "      <td>-0.031659</td>\n",
              "      <td>-0.030390</td>\n",
              "      <td>NaN</td>\n",
              "      <td>0.072560</td>\n",
              "      <td>-0.106534</td>\n",
              "      <td>-0.025457</td>\n",
              "      <td>-0.073416</td>\n",
              "      <td>0.063413</td>\n",
              "      <td>-0.042221</td>\n",
              "    </tr>\n",
              "    <tr>\n",
              "      <th>cap-surface</th>\n",
              "      <td>0.178446</td>\n",
              "      <td>-0.050454</td>\n",
              "      <td>1.000000</td>\n",
              "      <td>-0.019402</td>\n",
              "      <td>0.070228</td>\n",
              "      <td>0.045233</td>\n",
              "      <td>-0.034180</td>\n",
              "      <td>-0.282306</td>\n",
              "      <td>0.208100</td>\n",
              "      <td>-0.161017</td>\n",
              "      <td>-0.014123</td>\n",
              "      <td>-0.126245</td>\n",
              "      <td>0.089090</td>\n",
              "      <td>0.107965</td>\n",
              "      <td>0.066050</td>\n",
              "      <td>0.068885</td>\n",
              "      <td>NaN</td>\n",
              "      <td>-0.016603</td>\n",
              "      <td>-0.026147</td>\n",
              "      <td>-0.106407</td>\n",
              "      <td>0.230364</td>\n",
              "      <td>0.021555</td>\n",
              "      <td>0.163887</td>\n",
              "    </tr>\n",
              "    <tr>\n",
              "      <th>cap-color</th>\n",
              "      <td>-0.031384</td>\n",
              "      <td>-0.048203</td>\n",
              "      <td>-0.019402</td>\n",
              "      <td>1.000000</td>\n",
              "      <td>-0.000764</td>\n",
              "      <td>-0.387121</td>\n",
              "      <td>0.041436</td>\n",
              "      <td>0.144259</td>\n",
              "      <td>-0.169464</td>\n",
              "      <td>0.084659</td>\n",
              "      <td>-0.456496</td>\n",
              "      <td>0.321274</td>\n",
              "      <td>-0.060837</td>\n",
              "      <td>-0.047710</td>\n",
              "      <td>0.002364</td>\n",
              "      <td>0.008057</td>\n",
              "      <td>NaN</td>\n",
              "      <td>0.036130</td>\n",
              "      <td>-0.005822</td>\n",
              "      <td>0.162513</td>\n",
              "      <td>-0.293523</td>\n",
              "      <td>-0.144770</td>\n",
              "      <td>0.033925</td>\n",
              "    </tr>\n",
              "    <tr>\n",
              "      <th>bruises</th>\n",
              "      <td>-0.501530</td>\n",
              "      <td>-0.035374</td>\n",
              "      <td>0.070228</td>\n",
              "      <td>-0.000764</td>\n",
              "      <td>1.000000</td>\n",
              "      <td>-0.061825</td>\n",
              "      <td>0.137359</td>\n",
              "      <td>-0.299473</td>\n",
              "      <td>-0.369596</td>\n",
              "      <td>0.527120</td>\n",
              "      <td>0.099364</td>\n",
              "      <td>0.244188</td>\n",
              "      <td>0.460824</td>\n",
              "      <td>0.458983</td>\n",
              "      <td>0.083538</td>\n",
              "      <td>0.092874</td>\n",
              "      <td>NaN</td>\n",
              "      <td>0.119770</td>\n",
              "      <td>0.056788</td>\n",
              "      <td>0.692973</td>\n",
              "      <td>-0.285008</td>\n",
              "      <td>0.088137</td>\n",
              "      <td>-0.075095</td>\n",
              "    </tr>\n",
              "    <tr>\n",
              "      <th>odor</th>\n",
              "      <td>-0.093552</td>\n",
              "      <td>-0.021935</td>\n",
              "      <td>0.045233</td>\n",
              "      <td>-0.387121</td>\n",
              "      <td>-0.061825</td>\n",
              "      <td>1.000000</td>\n",
              "      <td>-0.059590</td>\n",
              "      <td>0.063936</td>\n",
              "      <td>0.310495</td>\n",
              "      <td>-0.129213</td>\n",
              "      <td>0.459766</td>\n",
              "      <td>-0.205215</td>\n",
              "      <td>0.118617</td>\n",
              "      <td>0.061820</td>\n",
              "      <td>0.174532</td>\n",
              "      <td>0.169407</td>\n",
              "      <td>NaN</td>\n",
              "      <td>-0.057747</td>\n",
              "      <td>0.111905</td>\n",
              "      <td>-0.281387</td>\n",
              "      <td>0.469055</td>\n",
              "      <td>-0.043623</td>\n",
              "      <td>-0.026610</td>\n",
              "    </tr>\n",
              "    <tr>\n",
              "      <th>gill-attachment</th>\n",
              "      <td>0.129200</td>\n",
              "      <td>0.078865</td>\n",
              "      <td>-0.034180</td>\n",
              "      <td>0.041436</td>\n",
              "      <td>0.137359</td>\n",
              "      <td>-0.059590</td>\n",
              "      <td>1.000000</td>\n",
              "      <td>0.071489</td>\n",
              "      <td>0.108984</td>\n",
              "      <td>-0.128567</td>\n",
              "      <td>0.186485</td>\n",
              "      <td>0.144063</td>\n",
              "      <td>-0.088916</td>\n",
              "      <td>-0.116177</td>\n",
              "      <td>0.099299</td>\n",
              "      <td>0.097160</td>\n",
              "      <td>NaN</td>\n",
              "      <td>0.897518</td>\n",
              "      <td>0.093236</td>\n",
              "      <td>-0.146689</td>\n",
              "      <td>-0.029524</td>\n",
              "      <td>0.165575</td>\n",
              "      <td>-0.030304</td>\n",
              "    </tr>\n",
              "    <tr>\n",
              "      <th>gill-spacing</th>\n",
              "      <td>-0.348387</td>\n",
              "      <td>0.013196</td>\n",
              "      <td>-0.282306</td>\n",
              "      <td>0.144259</td>\n",
              "      <td>-0.299473</td>\n",
              "      <td>0.063936</td>\n",
              "      <td>0.071489</td>\n",
              "      <td>1.000000</td>\n",
              "      <td>-0.108333</td>\n",
              "      <td>0.100193</td>\n",
              "      <td>0.080895</td>\n",
              "      <td>0.350548</td>\n",
              "      <td>-0.212359</td>\n",
              "      <td>-0.213775</td>\n",
              "      <td>0.274574</td>\n",
              "      <td>0.253505</td>\n",
              "      <td>NaN</td>\n",
              "      <td>0.073363</td>\n",
              "      <td>0.243014</td>\n",
              "      <td>-0.195897</td>\n",
              "      <td>0.047323</td>\n",
              "      <td>-0.529253</td>\n",
              "      <td>-0.154680</td>\n",
              "    </tr>\n",
              "    <tr>\n",
              "      <th>gill-size</th>\n",
              "      <td>0.540024</td>\n",
              "      <td>0.054050</td>\n",
              "      <td>0.208100</td>\n",
              "      <td>-0.169464</td>\n",
              "      <td>-0.369596</td>\n",
              "      <td>0.310495</td>\n",
              "      <td>0.108984</td>\n",
              "      <td>-0.108333</td>\n",
              "      <td>1.000000</td>\n",
              "      <td>-0.516736</td>\n",
              "      <td>0.214576</td>\n",
              "      <td>-0.344345</td>\n",
              "      <td>0.056310</td>\n",
              "      <td>0.010894</td>\n",
              "      <td>0.296548</td>\n",
              "      <td>0.278708</td>\n",
              "      <td>NaN</td>\n",
              "      <td>0.103809</td>\n",
              "      <td>-0.171362</td>\n",
              "      <td>-0.460872</td>\n",
              "      <td>0.622991</td>\n",
              "      <td>0.147682</td>\n",
              "      <td>0.161418</td>\n",
              "    </tr>\n",
              "    <tr>\n",
              "      <th>gill-color</th>\n",
              "      <td>-0.530566</td>\n",
              "      <td>-0.006039</td>\n",
              "      <td>-0.161017</td>\n",
              "      <td>0.084659</td>\n",
              "      <td>0.527120</td>\n",
              "      <td>-0.129213</td>\n",
              "      <td>-0.128567</td>\n",
              "      <td>0.100193</td>\n",
              "      <td>-0.516736</td>\n",
              "      <td>1.000000</td>\n",
              "      <td>-0.175699</td>\n",
              "      <td>0.315080</td>\n",
              "      <td>0.224287</td>\n",
              "      <td>0.257224</td>\n",
              "      <td>-0.058299</td>\n",
              "      <td>-0.074781</td>\n",
              "      <td>NaN</td>\n",
              "      <td>-0.097583</td>\n",
              "      <td>0.096054</td>\n",
              "      <td>0.629398</td>\n",
              "      <td>-0.416135</td>\n",
              "      <td>-0.034090</td>\n",
              "      <td>-0.202972</td>\n",
              "    </tr>\n",
              "    <tr>\n",
              "      <th>stalk-shape</th>\n",
              "      <td>-0.102019</td>\n",
              "      <td>0.063794</td>\n",
              "      <td>-0.014123</td>\n",
              "      <td>-0.456496</td>\n",
              "      <td>0.099364</td>\n",
              "      <td>0.459766</td>\n",
              "      <td>0.186485</td>\n",
              "      <td>0.080895</td>\n",
              "      <td>0.214576</td>\n",
              "      <td>-0.175699</td>\n",
              "      <td>1.000000</td>\n",
              "      <td>-0.163422</td>\n",
              "      <td>0.015193</td>\n",
              "      <td>-0.034399</td>\n",
              "      <td>0.223439</td>\n",
              "      <td>0.235794</td>\n",
              "      <td>NaN</td>\n",
              "      <td>0.162604</td>\n",
              "      <td>-0.293221</td>\n",
              "      <td>-0.291444</td>\n",
              "      <td>0.258831</td>\n",
              "      <td>0.087383</td>\n",
              "      <td>-0.269216</td>\n",
              "    </tr>\n",
              "    <tr>\n",
              "      <th>stalk-root</th>\n",
              "      <td>-0.379361</td>\n",
              "      <td>0.030191</td>\n",
              "      <td>-0.126245</td>\n",
              "      <td>0.321274</td>\n",
              "      <td>0.244188</td>\n",
              "      <td>-0.205215</td>\n",
              "      <td>0.144063</td>\n",
              "      <td>0.350548</td>\n",
              "      <td>-0.344345</td>\n",
              "      <td>0.315080</td>\n",
              "      <td>-0.163422</td>\n",
              "      <td>1.000000</td>\n",
              "      <td>-0.027065</td>\n",
              "      <td>0.087454</td>\n",
              "      <td>0.157140</td>\n",
              "      <td>0.159805</td>\n",
              "      <td>NaN</td>\n",
              "      <td>0.156213</td>\n",
              "      <td>-0.247357</td>\n",
              "      <td>0.210155</td>\n",
              "      <td>-0.536996</td>\n",
              "      <td>-0.306747</td>\n",
              "      <td>-0.007668</td>\n",
              "    </tr>\n",
              "    <tr>\n",
              "      <th>stalk-surface-above-ring</th>\n",
              "      <td>-0.334593</td>\n",
              "      <td>-0.030417</td>\n",
              "      <td>0.089090</td>\n",
              "      <td>-0.060837</td>\n",
              "      <td>0.460824</td>\n",
              "      <td>0.118617</td>\n",
              "      <td>-0.088916</td>\n",
              "      <td>-0.212359</td>\n",
              "      <td>0.056310</td>\n",
              "      <td>0.224287</td>\n",
              "      <td>0.015193</td>\n",
              "      <td>-0.027065</td>\n",
              "      <td>1.000000</td>\n",
              "      <td>0.437164</td>\n",
              "      <td>0.132708</td>\n",
              "      <td>0.142835</td>\n",
              "      <td>NaN</td>\n",
              "      <td>-0.090591</td>\n",
              "      <td>0.107904</td>\n",
              "      <td>0.390091</td>\n",
              "      <td>0.100764</td>\n",
              "      <td>0.079604</td>\n",
              "      <td>-0.058076</td>\n",
              "    </tr>\n",
              "    <tr>\n",
              "      <th>stalk-surface-below-ring</th>\n",
              "      <td>-0.298801</td>\n",
              "      <td>-0.032591</td>\n",
              "      <td>0.107965</td>\n",
              "      <td>-0.047710</td>\n",
              "      <td>0.458983</td>\n",
              "      <td>0.061820</td>\n",
              "      <td>-0.116177</td>\n",
              "      <td>-0.213775</td>\n",
              "      <td>0.010894</td>\n",
              "      <td>0.257224</td>\n",
              "      <td>-0.034399</td>\n",
              "      <td>0.087454</td>\n",
              "      <td>0.437164</td>\n",
              "      <td>1.000000</td>\n",
              "      <td>0.106933</td>\n",
              "      <td>0.110656</td>\n",
              "      <td>NaN</td>\n",
              "      <td>-0.077284</td>\n",
              "      <td>0.040006</td>\n",
              "      <td>0.394644</td>\n",
              "      <td>0.130974</td>\n",
              "      <td>0.046797</td>\n",
              "      <td>-0.039628</td>\n",
              "    </tr>\n",
              "    <tr>\n",
              "      <th>stalk-color-above-ring</th>\n",
              "      <td>-0.154003</td>\n",
              "      <td>-0.031659</td>\n",
              "      <td>0.066050</td>\n",
              "      <td>0.002364</td>\n",
              "      <td>0.083538</td>\n",
              "      <td>0.174532</td>\n",
              "      <td>0.099299</td>\n",
              "      <td>0.274574</td>\n",
              "      <td>0.296548</td>\n",
              "      <td>-0.058299</td>\n",
              "      <td>0.223439</td>\n",
              "      <td>0.157140</td>\n",
              "      <td>0.132708</td>\n",
              "      <td>0.106933</td>\n",
              "      <td>1.000000</td>\n",
              "      <td>0.491510</td>\n",
              "      <td>NaN</td>\n",
              "      <td>0.067377</td>\n",
              "      <td>0.084917</td>\n",
              "      <td>-0.048878</td>\n",
              "      <td>0.271533</td>\n",
              "      <td>-0.240261</td>\n",
              "      <td>0.042561</td>\n",
              "    </tr>\n",
              "    <tr>\n",
              "      <th>stalk-color-below-ring</th>\n",
              "      <td>-0.146730</td>\n",
              "      <td>-0.030390</td>\n",
              "      <td>0.068885</td>\n",
              "      <td>0.008057</td>\n",
              "      <td>0.092874</td>\n",
              "      <td>0.169407</td>\n",
              "      <td>0.097160</td>\n",
              "      <td>0.253505</td>\n",
              "      <td>0.278708</td>\n",
              "      <td>-0.074781</td>\n",
              "      <td>0.235794</td>\n",
              "      <td>0.159805</td>\n",
              "      <td>0.142835</td>\n",
              "      <td>0.110656</td>\n",
              "      <td>0.491510</td>\n",
              "      <td>1.000000</td>\n",
              "      <td>NaN</td>\n",
              "      <td>0.065567</td>\n",
              "      <td>0.087580</td>\n",
              "      <td>-0.034284</td>\n",
              "      <td>0.254518</td>\n",
              "      <td>-0.242792</td>\n",
              "      <td>0.041594</td>\n",
              "    </tr>\n",
              "    <tr>\n",
              "      <th>veil-type</th>\n",
              "      <td>NaN</td>\n",
              "      <td>NaN</td>\n",
              "      <td>NaN</td>\n",
              "      <td>NaN</td>\n",
              "      <td>NaN</td>\n",
              "      <td>NaN</td>\n",
              "      <td>NaN</td>\n",
              "      <td>NaN</td>\n",
              "      <td>NaN</td>\n",
              "      <td>NaN</td>\n",
              "      <td>NaN</td>\n",
              "      <td>NaN</td>\n",
              "      <td>NaN</td>\n",
              "      <td>NaN</td>\n",
              "      <td>NaN</td>\n",
              "      <td>NaN</td>\n",
              "      <td>NaN</td>\n",
              "      <td>NaN</td>\n",
              "      <td>NaN</td>\n",
              "      <td>NaN</td>\n",
              "      <td>NaN</td>\n",
              "      <td>NaN</td>\n",
              "      <td>NaN</td>\n",
              "    </tr>\n",
              "    <tr>\n",
              "      <th>veil-color</th>\n",
              "      <td>0.145142</td>\n",
              "      <td>0.072560</td>\n",
              "      <td>-0.016603</td>\n",
              "      <td>0.036130</td>\n",
              "      <td>0.119770</td>\n",
              "      <td>-0.057747</td>\n",
              "      <td>0.897518</td>\n",
              "      <td>0.073363</td>\n",
              "      <td>0.103809</td>\n",
              "      <td>-0.097583</td>\n",
              "      <td>0.162604</td>\n",
              "      <td>0.156213</td>\n",
              "      <td>-0.090591</td>\n",
              "      <td>-0.077284</td>\n",
              "      <td>0.067377</td>\n",
              "      <td>0.065567</td>\n",
              "      <td>NaN</td>\n",
              "      <td>1.000000</td>\n",
              "      <td>0.036380</td>\n",
              "      <td>-0.143673</td>\n",
              "      <td>-0.003600</td>\n",
              "      <td>0.124924</td>\n",
              "      <td>-0.040581</td>\n",
              "    </tr>\n",
              "    <tr>\n",
              "      <th>ring-number</th>\n",
              "      <td>-0.214366</td>\n",
              "      <td>-0.106534</td>\n",
              "      <td>-0.026147</td>\n",
              "      <td>-0.005822</td>\n",
              "      <td>0.056788</td>\n",
              "      <td>0.111905</td>\n",
              "      <td>0.093236</td>\n",
              "      <td>0.243014</td>\n",
              "      <td>-0.171362</td>\n",
              "      <td>0.096054</td>\n",
              "      <td>-0.293221</td>\n",
              "      <td>-0.247357</td>\n",
              "      <td>0.107904</td>\n",
              "      <td>0.040006</td>\n",
              "      <td>0.084917</td>\n",
              "      <td>0.087580</td>\n",
              "      <td>NaN</td>\n",
              "      <td>0.036380</td>\n",
              "      <td>1.000000</td>\n",
              "      <td>0.058312</td>\n",
              "      <td>0.338417</td>\n",
              "      <td>-0.242020</td>\n",
              "      <td>0.235835</td>\n",
              "    </tr>\n",
              "    <tr>\n",
              "      <th>ring-type</th>\n",
              "      <td>-0.411771</td>\n",
              "      <td>-0.025457</td>\n",
              "      <td>-0.106407</td>\n",
              "      <td>0.162513</td>\n",
              "      <td>0.692973</td>\n",
              "      <td>-0.281387</td>\n",
              "      <td>-0.146689</td>\n",
              "      <td>-0.195897</td>\n",
              "      <td>-0.460872</td>\n",
              "      <td>0.629398</td>\n",
              "      <td>-0.291444</td>\n",
              "      <td>0.210155</td>\n",
              "      <td>0.390091</td>\n",
              "      <td>0.394644</td>\n",
              "      <td>-0.048878</td>\n",
              "      <td>-0.034284</td>\n",
              "      <td>NaN</td>\n",
              "      <td>-0.143673</td>\n",
              "      <td>0.058312</td>\n",
              "      <td>1.000000</td>\n",
              "      <td>-0.487048</td>\n",
              "      <td>0.211763</td>\n",
              "      <td>-0.212080</td>\n",
              "    </tr>\n",
              "    <tr>\n",
              "      <th>spore-print-color</th>\n",
              "      <td>0.171961</td>\n",
              "      <td>-0.073416</td>\n",
              "      <td>0.230364</td>\n",
              "      <td>-0.293523</td>\n",
              "      <td>-0.285008</td>\n",
              "      <td>0.469055</td>\n",
              "      <td>-0.029524</td>\n",
              "      <td>0.047323</td>\n",
              "      <td>0.622991</td>\n",
              "      <td>-0.416135</td>\n",
              "      <td>0.258831</td>\n",
              "      <td>-0.536996</td>\n",
              "      <td>0.100764</td>\n",
              "      <td>0.130974</td>\n",
              "      <td>0.271533</td>\n",
              "      <td>0.254518</td>\n",
              "      <td>NaN</td>\n",
              "      <td>-0.003600</td>\n",
              "      <td>0.338417</td>\n",
              "      <td>-0.487048</td>\n",
              "      <td>1.000000</td>\n",
              "      <td>-0.126859</td>\n",
              "      <td>0.185954</td>\n",
              "    </tr>\n",
              "    <tr>\n",
              "      <th>population</th>\n",
              "      <td>0.298686</td>\n",
              "      <td>0.063413</td>\n",
              "      <td>0.021555</td>\n",
              "      <td>-0.144770</td>\n",
              "      <td>0.088137</td>\n",
              "      <td>-0.043623</td>\n",
              "      <td>0.165575</td>\n",
              "      <td>-0.529253</td>\n",
              "      <td>0.147682</td>\n",
              "      <td>-0.034090</td>\n",
              "      <td>0.087383</td>\n",
              "      <td>-0.306747</td>\n",
              "      <td>0.079604</td>\n",
              "      <td>0.046797</td>\n",
              "      <td>-0.240261</td>\n",
              "      <td>-0.242792</td>\n",
              "      <td>NaN</td>\n",
              "      <td>0.124924</td>\n",
              "      <td>-0.242020</td>\n",
              "      <td>0.211763</td>\n",
              "      <td>-0.126859</td>\n",
              "      <td>1.000000</td>\n",
              "      <td>-0.174529</td>\n",
              "    </tr>\n",
              "    <tr>\n",
              "      <th>habitat</th>\n",
              "      <td>0.217179</td>\n",
              "      <td>-0.042221</td>\n",
              "      <td>0.163887</td>\n",
              "      <td>0.033925</td>\n",
              "      <td>-0.075095</td>\n",
              "      <td>-0.026610</td>\n",
              "      <td>-0.030304</td>\n",
              "      <td>-0.154680</td>\n",
              "      <td>0.161418</td>\n",
              "      <td>-0.202972</td>\n",
              "      <td>-0.269216</td>\n",
              "      <td>-0.007668</td>\n",
              "      <td>-0.058076</td>\n",
              "      <td>-0.039628</td>\n",
              "      <td>0.042561</td>\n",
              "      <td>0.041594</td>\n",
              "      <td>NaN</td>\n",
              "      <td>-0.040581</td>\n",
              "      <td>0.235835</td>\n",
              "      <td>-0.212080</td>\n",
              "      <td>0.185954</td>\n",
              "      <td>-0.174529</td>\n",
              "      <td>1.000000</td>\n",
              "    </tr>\n",
              "  </tbody>\n",
              "</table>\n",
              "</div>\n",
              "      <button class=\"colab-df-convert\" onclick=\"convertToInteractive('df-55c6d1fe-fd3e-40b5-8838-e933c1705886')\"\n",
              "              title=\"Convert this dataframe to an interactive table.\"\n",
              "              style=\"display:none;\">\n",
              "        \n",
              "  <svg xmlns=\"http://www.w3.org/2000/svg\" height=\"24px\"viewBox=\"0 0 24 24\"\n",
              "       width=\"24px\">\n",
              "    <path d=\"M0 0h24v24H0V0z\" fill=\"none\"/>\n",
              "    <path d=\"M18.56 5.44l.94 2.06.94-2.06 2.06-.94-2.06-.94-.94-2.06-.94 2.06-2.06.94zm-11 1L8.5 8.5l.94-2.06 2.06-.94-2.06-.94L8.5 2.5l-.94 2.06-2.06.94zm10 10l.94 2.06.94-2.06 2.06-.94-2.06-.94-.94-2.06-.94 2.06-2.06.94z\"/><path d=\"M17.41 7.96l-1.37-1.37c-.4-.4-.92-.59-1.43-.59-.52 0-1.04.2-1.43.59L10.3 9.45l-7.72 7.72c-.78.78-.78 2.05 0 2.83L4 21.41c.39.39.9.59 1.41.59.51 0 1.02-.2 1.41-.59l7.78-7.78 2.81-2.81c.8-.78.8-2.07 0-2.86zM5.41 20L4 18.59l7.72-7.72 1.47 1.35L5.41 20z\"/>\n",
              "  </svg>\n",
              "      </button>\n",
              "      \n",
              "  <style>\n",
              "    .colab-df-container {\n",
              "      display:flex;\n",
              "      flex-wrap:wrap;\n",
              "      gap: 12px;\n",
              "    }\n",
              "\n",
              "    .colab-df-convert {\n",
              "      background-color: #E8F0FE;\n",
              "      border: none;\n",
              "      border-radius: 50%;\n",
              "      cursor: pointer;\n",
              "      display: none;\n",
              "      fill: #1967D2;\n",
              "      height: 32px;\n",
              "      padding: 0 0 0 0;\n",
              "      width: 32px;\n",
              "    }\n",
              "\n",
              "    .colab-df-convert:hover {\n",
              "      background-color: #E2EBFA;\n",
              "      box-shadow: 0px 1px 2px rgba(60, 64, 67, 0.3), 0px 1px 3px 1px rgba(60, 64, 67, 0.15);\n",
              "      fill: #174EA6;\n",
              "    }\n",
              "\n",
              "    [theme=dark] .colab-df-convert {\n",
              "      background-color: #3B4455;\n",
              "      fill: #D2E3FC;\n",
              "    }\n",
              "\n",
              "    [theme=dark] .colab-df-convert:hover {\n",
              "      background-color: #434B5C;\n",
              "      box-shadow: 0px 1px 3px 1px rgba(0, 0, 0, 0.15);\n",
              "      filter: drop-shadow(0px 1px 2px rgba(0, 0, 0, 0.3));\n",
              "      fill: #FFFFFF;\n",
              "    }\n",
              "  </style>\n",
              "\n",
              "      <script>\n",
              "        const buttonEl =\n",
              "          document.querySelector('#df-55c6d1fe-fd3e-40b5-8838-e933c1705886 button.colab-df-convert');\n",
              "        buttonEl.style.display =\n",
              "          google.colab.kernel.accessAllowed ? 'block' : 'none';\n",
              "\n",
              "        async function convertToInteractive(key) {\n",
              "          const element = document.querySelector('#df-55c6d1fe-fd3e-40b5-8838-e933c1705886');\n",
              "          const dataTable =\n",
              "            await google.colab.kernel.invokeFunction('convertToInteractive',\n",
              "                                                     [key], {});\n",
              "          if (!dataTable) return;\n",
              "\n",
              "          const docLinkHtml = 'Like what you see? Visit the ' +\n",
              "            '<a target=\"_blank\" href=https://colab.research.google.com/notebooks/data_table.ipynb>data table notebook</a>'\n",
              "            + ' to learn more about interactive tables.';\n",
              "          element.innerHTML = '';\n",
              "          dataTable['output_type'] = 'display_data';\n",
              "          await google.colab.output.renderOutput(dataTable, element);\n",
              "          const docLink = document.createElement('div');\n",
              "          docLink.innerHTML = docLinkHtml;\n",
              "          element.appendChild(docLink);\n",
              "        }\n",
              "      </script>\n",
              "    </div>\n",
              "  </div>\n",
              "  "
            ],
            "text/plain": [
              "                             class  cap-shape  ...  population   habitat\n",
              "class                     1.000000   0.052951  ...    0.298686  0.217179\n",
              "cap-shape                 0.052951   1.000000  ...    0.063413 -0.042221\n",
              "cap-surface               0.178446  -0.050454  ...    0.021555  0.163887\n",
              "cap-color                -0.031384  -0.048203  ...   -0.144770  0.033925\n",
              "bruises                  -0.501530  -0.035374  ...    0.088137 -0.075095\n",
              "odor                     -0.093552  -0.021935  ...   -0.043623 -0.026610\n",
              "gill-attachment           0.129200   0.078865  ...    0.165575 -0.030304\n",
              "gill-spacing             -0.348387   0.013196  ...   -0.529253 -0.154680\n",
              "gill-size                 0.540024   0.054050  ...    0.147682  0.161418\n",
              "gill-color               -0.530566  -0.006039  ...   -0.034090 -0.202972\n",
              "stalk-shape              -0.102019   0.063794  ...    0.087383 -0.269216\n",
              "stalk-root               -0.379361   0.030191  ...   -0.306747 -0.007668\n",
              "stalk-surface-above-ring -0.334593  -0.030417  ...    0.079604 -0.058076\n",
              "stalk-surface-below-ring -0.298801  -0.032591  ...    0.046797 -0.039628\n",
              "stalk-color-above-ring   -0.154003  -0.031659  ...   -0.240261  0.042561\n",
              "stalk-color-below-ring   -0.146730  -0.030390  ...   -0.242792  0.041594\n",
              "veil-type                      NaN        NaN  ...         NaN       NaN\n",
              "veil-color                0.145142   0.072560  ...    0.124924 -0.040581\n",
              "ring-number              -0.214366  -0.106534  ...   -0.242020  0.235835\n",
              "ring-type                -0.411771  -0.025457  ...    0.211763 -0.212080\n",
              "spore-print-color         0.171961  -0.073416  ...   -0.126859  0.185954\n",
              "population                0.298686   0.063413  ...    1.000000 -0.174529\n",
              "habitat                   0.217179  -0.042221  ...   -0.174529  1.000000\n",
              "\n",
              "[23 rows x 23 columns]"
            ]
          },
          "metadata": {},
          "execution_count": 140
        }
      ]
    },
    {
      "cell_type": "markdown",
      "source": [
        "## Estandarizamos la data"
      ],
      "metadata": {
        "id": "_-et3iF31tS0"
      }
    },
    {
      "cell_type": "code",
      "source": [
        "#importamos libreria\n",
        "from sklearn.preprocessing import StandardScaler\n",
        "scaler = StandardScaler()\n",
        "X = scaler.fit_transform(x)\n",
        "X"
      ],
      "metadata": {
        "colab": {
          "base_uri": "https://localhost:8080/"
        },
        "id": "GwKfeZYq0jhZ",
        "outputId": "02193bcc-4c79-4e25-f78b-a50eb96efc5f"
      },
      "execution_count": null,
      "outputs": [
        {
          "output_type": "execute_result",
          "data": {
            "text/plain": [
              "array([[ 1.02971224,  0.14012794, -0.19824983, ..., -0.67019486,\n",
              "        -0.5143892 ,  2.03002809],\n",
              "       [ 1.02971224,  0.14012794,  1.76587407, ..., -0.2504706 ,\n",
              "        -1.31310821, -0.29572966],\n",
              "       [-2.08704716,  0.14012794,  1.37304929, ..., -0.2504706 ,\n",
              "        -1.31310821,  0.86714922],\n",
              "       ...,\n",
              "       [-0.8403434 ,  0.14012794, -0.19824983, ..., -1.50964337,\n",
              "        -2.11182722,  0.28570978],\n",
              "       [-0.21699152,  0.95327039, -0.19824983, ...,  1.42842641,\n",
              "         0.28432981,  0.28570978],\n",
              "       [ 1.02971224,  0.14012794, -0.19824983, ...,  0.16925365,\n",
              "        -2.11182722,  0.28570978]])"
            ]
          },
          "metadata": {},
          "execution_count": 141
        }
      ]
    },
    {
      "cell_type": "markdown",
      "source": [
        "## PRINCIPAL COMPONENT ANALYSIS (PCA)"
      ],
      "metadata": {
        "id": "bu8XtlGs2SNk"
      }
    },
    {
      "cell_type": "code",
      "source": [
        ""
      ],
      "metadata": {
        "id": "YM5XynDnNgm7"
      },
      "execution_count": null,
      "outputs": []
    },
    {
      "cell_type": "code",
      "source": [
        "from sklearn.decomposition import PCA\n",
        "pca = PCA()\n",
        "pca.fit_transform(X)"
      ],
      "metadata": {
        "colab": {
          "base_uri": "https://localhost:8080/"
        },
        "id": "YccSC78A1yuJ",
        "outputId": "796a1654-22c7-4f55-bba3-f4bb0eed4589"
      },
      "execution_count": null,
      "outputs": [
        {
          "output_type": "execute_result",
          "data": {
            "text/plain": [
              "array([[-5.74321902e-01, -9.75781349e-01, -1.22176154e+00, ...,\n",
              "        -2.08581362e-01,  8.13996758e-03, -1.59211948e-17],\n",
              "       [-2.28210230e+00,  2.79066333e-01, -1.20049669e+00, ...,\n",
              "         1.52238789e-01, -1.96446132e-01,  4.35476041e-17],\n",
              "       [-1.85803562e+00, -2.70972362e-01, -1.37237069e+00, ...,\n",
              "         2.57581784e-01, -3.62577199e-01,  1.93182410e-17],\n",
              "       ...,\n",
              "       [-1.62151632e+00, -7.57536709e-01,  2.73357994e+00, ...,\n",
              "        -1.42532241e+00,  6.36990122e-01,  7.01453987e-19],\n",
              "       [ 3.67060561e+00, -1.03277450e+00,  1.68459501e-01, ...,\n",
              "         9.41440123e-02, -6.43462238e-02, -3.98483680e-20],\n",
              "       [-1.57520272e+00, -1.22858140e+00,  2.44722789e+00, ...,\n",
              "        -8.04626064e-01,  5.90315263e-01,  7.43806407e-20]])"
            ]
          },
          "metadata": {},
          "execution_count": 142
        }
      ]
    },
    {
      "cell_type": "code",
      "source": [
        "#El explained varianca ratio nos explica cuanto influye cada feature en la explicacoin de la varianza del modelo\n",
        "explained_variance_ratio = pca.explained_variance_ratio_\n",
        "\n",
        "plt.figure(figsize=(6, 4))\n",
        "    \n",
        "plt.bar(range(22), explained_variance_ratio, alpha=0.5, align='center',\n",
        "            label='individual explained variance')\n",
        "plt.ylabel('Explained variance ratio')\n",
        "plt.xlabel('Principal components')\n",
        "plt.legend(loc='best')\n",
        "plt.tight_layout()"
      ],
      "metadata": {
        "colab": {
          "base_uri": "https://localhost:8080/",
          "height": 297
        },
        "id": "qMfj-wI-ulI6",
        "outputId": "ee41b731-742d-4efa-e796-89778d11bff0"
      },
      "execution_count": null,
      "outputs": [
        {
          "output_type": "display_data",
          "data": {
            "image/png": "[encoded data removed]",
            "text/plain": [
              "<Figure size 432x288 with 1 Axes>"
            ]
          },
          "metadata": {
            "needs_background": "light"
          }
        }
      ]
    },
    {
      "cell_type": "code",
      "source": [
        "print(explained_variance_ratio)"
      ],
      "metadata": {
        "colab": {
          "base_uri": "https://localhost:8080/"
        },
        "id": "kBXYJgN5HXhY",
        "outputId": "e0ba4f6a-5865-42f7-a64c-a91434999109"
      },
      "execution_count": null,
      "outputs": [
        {
          "output_type": "stream",
          "name": "stdout",
          "text": [
            "[1.84458684e-01 1.23955899e-01 1.14306801e-01 1.03165737e-01\n",
            " 8.10867705e-02 6.64182876e-02 4.66039611e-02 4.53247460e-02\n",
            " 3.66638866e-02 3.38886068e-02 2.74993066e-02 2.58294323e-02\n",
            " 2.42651684e-02 2.27216831e-02 1.83057085e-02 1.48185678e-02\n",
            " 1.04106068e-02 7.59501185e-03 6.26216657e-03 3.48525415e-03\n",
            " 2.93371356e-03 3.76432098e-35]\n"
          ]
        }
      ]
    },
    {
      "cell_type": "code",
      "source": [
        "#Vemos la suma acumulada de componentes principales para ver si filtramos algun\n",
        "np.cumsum(explained_variance_ratio)"
      ],
      "metadata": {
        "colab": {
          "base_uri": "https://localhost:8080/"
        },
        "id": "jDRt73XFHoCC",
        "outputId": "022e8f77-a81e-4864-804c-811721103dcb"
      },
      "execution_count": null,
      "outputs": [
        {
          "output_type": "execute_result",
          "data": {
            "text/plain": [
              "array([0.18445868, 0.30841458, 0.42272138, 0.52588712, 0.60697389,\n",
              "       0.67339218, 0.71999614, 0.76532089, 0.80198477, 0.83587338,\n",
              "       0.86337269, 0.88920212, 0.91346729, 0.93618897, 0.95449468,\n",
              "       0.96931325, 0.97972385, 0.98731887, 0.99358103, 0.99706629,\n",
              "       1.        , 1.        ])"
            ]
          },
          "metadata": {},
          "execution_count": 145
        }
      ]
    },
    {
      "cell_type": "code",
      "source": [
        "# se crea la lista de componentes para pasar al modelo \n",
        "lista_componentes = [\"pc1\",\"pc2\",\"pc3\",\"pc4\",\"pc5\",\"pc6\",\"pc7\",\"pc8\",\"pc9\",\"pc10\",\"pc11\",\"pc12\",\"pc13\",\"pc14\",\"pc15\",\"pc16\",\"pc17\",\"pc18\",\"pc19\",\"pc20\",\"pc21\",\"pc22\"]"
      ],
      "metadata": {
        "id": "SRIqqe4zI01I"
      },
      "execution_count": null,
      "outputs": []
    },
    {
      "cell_type": "code",
      "source": [
        "#se crea el dataframe con las componentes principales\n",
        "df_pca = pd.DataFrame(pca.fit_transform(X),columns =lista_componentes)"
      ],
      "metadata": {
        "id": "_UQXeK4mH43g"
      },
      "execution_count": null,
      "outputs": []
    },
    {
      "cell_type": "code",
      "source": [
        "#si quisieramos optimizar el modelo se pueden filtrar aca algunas commponentes (por ejemplo las que sumen el 80% de la varianza)\n",
        "df_pca_80 = df_pca[[]]"
      ],
      "metadata": {
        "id": "C7r8YwkRIHaX"
      },
      "execution_count": null,
      "outputs": []
    },
    {
      "cell_type": "code",
      "source": [
        "#El explained varianca ratio nos explica cuanto influye cada feature en la explicacoin de la varianza del modelo\n",
        "explained_variance = pca.explained_variance_\n",
        "\n",
        "plt.figure(figsize=(6, 4))\n",
        "    \n",
        "plt.bar(range(22), explained_variance, alpha=0.5, align='center',\n",
        "            label='individual explained variance')\n",
        "plt.ylabel('Explained variance ratio')\n",
        "plt.xlabel('Principal components')\n",
        "plt.legend(loc='best')\n",
        "plt.tight_layout()"
      ],
      "metadata": {
        "colab": {
          "base_uri": "https://localhost:8080/",
          "height": 297
        },
        "id": "5E1QXKb02Ia-",
        "outputId": "0c86619e-571c-4c0d-911f-c4d8e4cfd082"
      },
      "execution_count": null,
      "outputs": [
        {
          "output_type": "display_data",
          "data": {
            "image/png": "[encoded data removed]",
            "text/plain": [
              "<Figure size 432x288 with 1 Axes>"
            ]
          },
          "metadata": {
            "needs_background": "light"
          }
        }
      ]
    },
    {
      "cell_type": "markdown",
      "source": [
        "Hay unos 4 features que tienen muy poca varianza"
      ],
      "metadata": {
        "id": "AIQn7w4e1cCw"
      }
    },
    {
      "cell_type": "code",
      "source": [
        "#Hacemos knn means con los 2 componen principales\n",
        "N = df.values\n",
        "pca = PCA(n_components = 2)\n",
        "x_pca = pca.fit_transform(N)\n",
        "plt.figure(figsize =(5,5))\n",
        "plt.scatter(x_pca[:,0],x_pca[:,1])\n",
        "plt.show()\n"
      ],
      "metadata": {
        "id": "z44Qsuf71acu",
        "colab": {
          "base_uri": "https://localhost:8080/",
          "height": 320
        },
        "outputId": "c456c8fd-4c04-4d05-92ea-f90bd33bfe9e"
      },
      "execution_count": null,
      "outputs": [
        {
          "output_type": "display_data",
          "data": {
            "image/png": "[encoded data removed]",
            "text/plain": [
              "<Figure size 360x360 with 1 Axes>"
            ]
          },
          "metadata": {
            "needs_background": "light"
          }
        }
      ]
    },
    {
      "cell_type": "code",
      "source": [
        "# se pueden observar 2 grupos, los coloreamos\n",
        "from sklearn.cluster import KMeans\n",
        "kmeans = KMeans(n_clusters = 2,random_state = 4)\n",
        "x_clustered = kmeans.fit_predict(N)\n",
        "LABEL_COLOR_MAP = {0:'g',1:'r'}\n",
        "label_color = [LABEL_COLOR_MAP[l]for l in x_clustered]\n",
        "plt.figure (figsize = (5,5))\n",
        "plt.scatter(x_clustered[:,0],x_clustered[:,1],c = label_color)"
      ],
      "metadata": {
        "colab": {
          "base_uri": "https://localhost:8080/",
          "height": 224
        },
        "id": "K4V-xHQAyfaX",
        "outputId": "c63c65ee-a591-4e62-db88-f8ede1d02bda"
      },
      "execution_count": null,
      "outputs": [
        {
          "output_type": "error",
          "ename": "IndexError",
          "evalue": "ignored",
          "traceback": [
            "\u001b[0;31m---------------------------------------------------------------------------\u001b[0m",
            "\u001b[0;31mIndexError\u001b[0m                                Traceback (most recent call last)",
            "\u001b[0;32m<ipython-input-152-5279a6ef741a>\u001b[0m in \u001b[0;36m<module>\u001b[0;34m()\u001b[0m\n\u001b[1;32m      6\u001b[0m \u001b[0mlabel_color\u001b[0m \u001b[0;34m=\u001b[0m \u001b[0;34m[\u001b[0m\u001b[0mLABEL_COLOR_MAP\u001b[0m\u001b[0;34m[\u001b[0m\u001b[0ml\u001b[0m\u001b[0;34m]\u001b[0m\u001b[0;32mfor\u001b[0m \u001b[0ml\u001b[0m \u001b[0;32min\u001b[0m \u001b[0mx_clustered\u001b[0m\u001b[0;34m]\u001b[0m\u001b[0;34m\u001b[0m\u001b[0;34m\u001b[0m\u001b[0m\n\u001b[1;32m      7\u001b[0m \u001b[0mplt\u001b[0m\u001b[0;34m.\u001b[0m\u001b[0mfigure\u001b[0m \u001b[0;34m(\u001b[0m\u001b[0mfigsize\u001b[0m \u001b[0;34m=\u001b[0m \u001b[0;34m(\u001b[0m\u001b[0;36m5\u001b[0m\u001b[0;34m,\u001b[0m\u001b[0;36m5\u001b[0m\u001b[0;34m)\u001b[0m\u001b[0;34m)\u001b[0m\u001b[0;34m\u001b[0m\u001b[0;34m\u001b[0m\u001b[0m\n\u001b[0;32m----> 8\u001b[0;31m \u001b[0mplt\u001b[0m\u001b[0;34m.\u001b[0m\u001b[0mscatter\u001b[0m\u001b[0;34m(\u001b[0m\u001b[0mx_clustered\u001b[0m\u001b[0;34m[\u001b[0m\u001b[0;34m:\u001b[0m\u001b[0;34m,\u001b[0m\u001b[0;36m0\u001b[0m\u001b[0;34m]\u001b[0m\u001b[0;34m,\u001b[0m\u001b[0mx_clustered\u001b[0m\u001b[0;34m[\u001b[0m\u001b[0;34m:\u001b[0m\u001b[0;34m,\u001b[0m\u001b[0;36m1\u001b[0m\u001b[0;34m]\u001b[0m\u001b[0;34m,\u001b[0m\u001b[0mc\u001b[0m \u001b[0;34m=\u001b[0m \u001b[0mlabel_color\u001b[0m\u001b[0;34m)\u001b[0m\u001b[0;34m\u001b[0m\u001b[0;34m\u001b[0m\u001b[0m\n\u001b[0m",
            "\u001b[0;31mIndexError\u001b[0m: too many indices for array: array is 1-dimensional, but 2 were indexed"
          ]
        },
        {
          "output_type": "display_data",
          "data": {
            "text/plain": [
              "<Figure size 360x360 with 0 Axes>"
            ]
          },
          "metadata": {}
        }
      ]
    },
    {
      "cell_type": "markdown",
      "source": [
        "## PCA CON 17 FEATURES"
      ],
      "metadata": {
        "id": "0ms7B2D30Xj5"
      }
    },
    {
      "cell_type": "code",
      "source": [
        "pca_modificada = PCA(n_components = 17)\n",
        "x_pca_trans = pca_modificada.fit_transform(X)\n",
        "plt.figure(figsize =(5,5))\n",
        "plt.scatter(x_pca_trans[:,0],x_pca_trans[:,1])\n",
        "plt.show()"
      ],
      "metadata": {
        "id": "SpipQEyg0alz"
      },
      "execution_count": null,
      "outputs": []
    },
    {
      "cell_type": "markdown",
      "source": [
        "# DIVIDIMOS EN TRAIN_TEST"
      ],
      "metadata": {
        "id": "77iWkRA035uV"
      }
    },
    {
      "cell_type": "code",
      "source": [
        "from sklearn.model_selection import train_test_split\n",
        "x_train,x_test,y_train,y_test = train_test_split(X,y,test_size = 0.2,random_state = 40)\n"
      ],
      "metadata": {
        "id": "JEaGBE263-hT"
      },
      "execution_count": null,
      "outputs": []
    },
    {
      "cell_type": "markdown",
      "source": [
        "# MODELOS DE MACHINE LEARNING"
      ],
      "metadata": {
        "id": "j2rUD06r9kRt"
      }
    },
    {
      "cell_type": "markdown",
      "source": [
        "## Regresión Logistica"
      ],
      "metadata": {
        "id": "vdDkk1JF3Xfj"
      }
    },
    {
      "cell_type": "code",
      "source": [
        "from sklearn.linear_model import LogisticRegression\n",
        "from sklearn.model_selection import cross_val_score\n",
        "from sklearn import metrics\n",
        "\n",
        "model_LR= LogisticRegression()"
      ],
      "metadata": {
        "id": "fc8bZJlL3ac1"
      },
      "execution_count": null,
      "outputs": []
    },
    {
      "cell_type": "code",
      "source": [
        "model_LR.fit(x_train,y_train)"
      ],
      "metadata": {
        "colab": {
          "base_uri": "https://localhost:8080/"
        },
        "id": "CeUuLs_I33CV",
        "outputId": "93bbae32-3995-4994-83e0-a66c3af145a1"
      },
      "execution_count": null,
      "outputs": [
        {
          "output_type": "execute_result",
          "data": {
            "text/plain": [
              "LogisticRegression()"
            ]
          },
          "metadata": {},
          "execution_count": 155
        }
      ]
    },
    {
      "cell_type": "markdown",
      "source": [
        "### Evaluacion del Modelo"
      ],
      "metadata": {
        "id": "rNtYF9Yu-H3E"
      }
    },
    {
      "cell_type": "code",
      "source": [
        "#imprimimos matriz de confusion de la regresion\n",
        "from sklearn.metrics import confusion_matrix\n",
        "#predecimos \n",
        "y_predic = model_LR.predict(x_test)\n",
        "pd.DataFrame(confusion_matrix(y_test,y_predic), columns = ['Predecido Normal', 'Predecido venenoso'], index = ['Verdaderamente normal', 'verdaderamente venenoso'])"
      ],
      "metadata": {
        "colab": {
          "base_uri": "https://localhost:8080/",
          "height": 112
        },
        "id": "GIDXAVd833Jw",
        "outputId": "2b2648d0-3b46-4c87-c90a-b6cfa5ba6b29"
      },
      "execution_count": null,
      "outputs": [
        {
          "output_type": "execute_result",
          "data": {
            "text/html": [
              "\n",
              "  <div id=\"df-b7079c15-c1e8-47a9-b7ae-5795eccd2223\">\n",
              "    <div class=\"colab-df-container\">\n",
              "      <div>\n",
              "<style scoped>\n",
              "    .dataframe tbody tr th:only-of-type {\n",
              "        vertical-align: middle;\n",
              "    }\n",
              "\n",
              "    .dataframe tbody tr th {\n",
              "        vertical-align: top;\n",
              "    }\n",
              "\n",
              "    .dataframe thead th {\n",
              "        text-align: right;\n",
              "    }\n",
              "</style>\n",
              "<table border=\"1\" class=\"dataframe\">\n",
              "  <thead>\n",
              "    <tr style=\"text-align: right;\">\n",
              "      <th></th>\n",
              "      <th>Predecido Normal</th>\n",
              "      <th>Predecido venenoso</th>\n",
              "    </tr>\n",
              "  </thead>\n",
              "  <tbody>\n",
              "    <tr>\n",
              "      <th>Verdaderamente normal</th>\n",
              "      <td>811</td>\n",
              "      <td>31</td>\n",
              "    </tr>\n",
              "    <tr>\n",
              "      <th>verdaderamente venenoso</th>\n",
              "      <td>29</td>\n",
              "      <td>754</td>\n",
              "    </tr>\n",
              "  </tbody>\n",
              "</table>\n",
              "</div>\n",
              "      <button class=\"colab-df-convert\" onclick=\"convertToInteractive('df-b7079c15-c1e8-47a9-b7ae-5795eccd2223')\"\n",
              "              title=\"Convert this dataframe to an interactive table.\"\n",
              "              style=\"display:none;\">\n",
              "        \n",
              "  <svg xmlns=\"http://www.w3.org/2000/svg\" height=\"24px\"viewBox=\"0 0 24 24\"\n",
              "       width=\"24px\">\n",
              "    <path d=\"M0 0h24v24H0V0z\" fill=\"none\"/>\n",
              "    <path d=\"M18.56 5.44l.94 2.06.94-2.06 2.06-.94-2.06-.94-.94-2.06-.94 2.06-2.06.94zm-11 1L8.5 8.5l.94-2.06 2.06-.94-2.06-.94L8.5 2.5l-.94 2.06-2.06.94zm10 10l.94 2.06.94-2.06 2.06-.94-2.06-.94-.94-2.06-.94 2.06-2.06.94z\"/><path d=\"M17.41 7.96l-1.37-1.37c-.4-.4-.92-.59-1.43-.59-.52 0-1.04.2-1.43.59L10.3 9.45l-7.72 7.72c-.78.78-.78 2.05 0 2.83L4 21.41c.39.39.9.59 1.41.59.51 0 1.02-.2 1.41-.59l7.78-7.78 2.81-2.81c.8-.78.8-2.07 0-2.86zM5.41 20L4 18.59l7.72-7.72 1.47 1.35L5.41 20z\"/>\n",
              "  </svg>\n",
              "      </button>\n",
              "      \n",
              "  <style>\n",
              "    .colab-df-container {\n",
              "      display:flex;\n",
              "      flex-wrap:wrap;\n",
              "      gap: 12px;\n",
              "    }\n",
              "\n",
              "    .colab-df-convert {\n",
              "      background-color: #E8F0FE;\n",
              "      border: none;\n",
              "      border-radius: 50%;\n",
              "      cursor: pointer;\n",
              "      display: none;\n",
              "      fill: #1967D2;\n",
              "      height: 32px;\n",
              "      padding: 0 0 0 0;\n",
              "      width: 32px;\n",
              "    }\n",
              "\n",
              "    .colab-df-convert:hover {\n",
              "      background-color: #E2EBFA;\n",
              "      box-shadow: 0px 1px 2px rgba(60, 64, 67, 0.3), 0px 1px 3px 1px rgba(60, 64, 67, 0.15);\n",
              "      fill: #174EA6;\n",
              "    }\n",
              "\n",
              "    [theme=dark] .colab-df-convert {\n",
              "      background-color: #3B4455;\n",
              "      fill: #D2E3FC;\n",
              "    }\n",
              "\n",
              "    [theme=dark] .colab-df-convert:hover {\n",
              "      background-color: #434B5C;\n",
              "      box-shadow: 0px 1px 3px 1px rgba(0, 0, 0, 0.15);\n",
              "      filter: drop-shadow(0px 1px 2px rgba(0, 0, 0, 0.3));\n",
              "      fill: #FFFFFF;\n",
              "    }\n",
              "  </style>\n",
              "\n",
              "      <script>\n",
              "        const buttonEl =\n",
              "          document.querySelector('#df-b7079c15-c1e8-47a9-b7ae-5795eccd2223 button.colab-df-convert');\n",
              "        buttonEl.style.display =\n",
              "          google.colab.kernel.accessAllowed ? 'block' : 'none';\n",
              "\n",
              "        async function convertToInteractive(key) {\n",
              "          const element = document.querySelector('#df-b7079c15-c1e8-47a9-b7ae-5795eccd2223');\n",
              "          const dataTable =\n",
              "            await google.colab.kernel.invokeFunction('convertToInteractive',\n",
              "                                                     [key], {});\n",
              "          if (!dataTable) return;\n",
              "\n",
              "          const docLinkHtml = 'Like what you see? Visit the ' +\n",
              "            '<a target=\"_blank\" href=https://colab.research.google.com/notebooks/data_table.ipynb>data table notebook</a>'\n",
              "            + ' to learn more about interactive tables.';\n",
              "          element.innerHTML = '';\n",
              "          dataTable['output_type'] = 'display_data';\n",
              "          await google.colab.output.renderOutput(dataTable, element);\n",
              "          const docLink = document.createElement('div');\n",
              "          docLink.innerHTML = docLinkHtml;\n",
              "          element.appendChild(docLink);\n",
              "        }\n",
              "      </script>\n",
              "    </div>\n",
              "  </div>\n",
              "  "
            ],
            "text/plain": [
              "                         Predecido Normal  Predecido venenoso\n",
              "Verdaderamente normal                 811                  31\n",
              "verdaderamente venenoso                29                 754"
            ]
          },
          "metadata": {},
          "execution_count": 156
        }
      ]
    },
    {
      "cell_type": "markdown",
      "source": [
        "#### ROC/AUC"
      ],
      "metadata": {
        "id": "HF6y9lfC-SFC"
      }
    },
    {
      "cell_type": "code",
      "source": [
        "#Evaluamos el performance\n",
        "auc_roc=metrics.roc_auc_score(y_test,y_predic)\n",
        "print(auc_roc)"
      ],
      "metadata": {
        "colab": {
          "base_uri": "https://localhost:8080/"
        },
        "id": "P7JpQX9r33Nv",
        "outputId": "a24c196c-a082-47a2-9886-30b23bfa9316"
      },
      "execution_count": null,
      "outputs": [
        {
          "output_type": "stream",
          "name": "stdout",
          "text": [
            "0.9630729304125978\n"
          ]
        }
      ]
    },
    {
      "cell_type": "code",
      "source": [
        "from sklearn.metrics import roc_curve, auc\n",
        "false_positive_rate, true_positive_rate, thresholds = roc_curve(y_test, y_predic)\n",
        "roc_auc = auc(false_positive_rate, true_positive_rate)\n",
        "roc_auc"
      ],
      "metadata": {
        "colab": {
          "base_uri": "https://localhost:8080/"
        },
        "id": "aIniMVMy8YDI",
        "outputId": "fd785b54-3b25-4b7a-8367-1dc6c787a0ac"
      },
      "execution_count": null,
      "outputs": [
        {
          "output_type": "execute_result",
          "data": {
            "text/plain": [
              "0.9630729304125978"
            ]
          },
          "metadata": {},
          "execution_count": 158
        }
      ]
    },
    {
      "cell_type": "code",
      "source": [
        "import matplotlib.pyplot as plt\n",
        "plt.figure(figsize =(7,7))\n",
        "plt.title(\"Receiver Operating Characteristic(ROC\")\n",
        "plt.plot(false_positive_rate,true_positive_rate, color='red',label = 'AUC = %0.2f' % roc_auc)\n",
        "plt.plot([0, 1], [0, 1],linestyle='--')\n",
        "plt.axis('tight')\n",
        "plt.ylabel('True Positive Rate')\n",
        "plt.xlabel('False Positive Rate')"
      ],
      "metadata": {
        "colab": {
          "base_uri": "https://localhost:8080/",
          "height": 476
        },
        "id": "opRbGWby85xs",
        "outputId": "d994d891-b1ff-46d0-b2af-5bc49ea82758"
      },
      "execution_count": null,
      "outputs": [
        {
          "output_type": "execute_result",
          "data": {
            "text/plain": [
              "Text(0.5, 0, 'False Positive Rate')"
            ]
          },
          "metadata": {},
          "execution_count": 159
        },
        {
          "output_type": "display_data",
          "data": {
            "image/png": "[encoded data removed]",
            "text/plain": [
              "<Figure size 504x504 with 1 Axes>"
            ]
          },
          "metadata": {
            "needs_background": "light"
          }
        }
      ]
    },
    {
      "cell_type": "markdown",
      "source": [
        "#### PRC"
      ],
      "metadata": {
        "id": "PO6InsaH-VG9"
      }
    },
    {
      "cell_type": "code",
      "source": [
        "#importamos las librerias\n",
        "from sklearn.metrics import precision_recall_curve\n",
        "from sklearn.metrics import f1_score\n",
        "\n",
        "#sacamos las metricas\n",
        "lr_precision, lr_recall, _ = precision_recall_curve(y_test, y_predic)\n",
        "lr_f1, lr_auc = f1_score(y_test, y_predic), auc(lr_recall, lr_precision)\n",
        "# sumamos los scores e imprimimos\n",
        "print('Logistica: f1=%.3f auc=%.3f' % (lr_f1, lr_auc))\n",
        "\n",
        "# graficamos el prc\n",
        "plt.plot(lr_recall, lr_precision, marker='.', label='Logistic')\n",
        "# axis labels\n",
        "plt.xlabel('Recall')\n",
        "plt.ylabel('Precision')\n",
        "# show the legend\n",
        "plt.legend()\n",
        "# show the plot\n",
        "plt.show()"
      ],
      "metadata": {
        "colab": {
          "base_uri": "https://localhost:8080/",
          "height": 297
        },
        "id": "XdMUpD4G-WNg",
        "outputId": "e7a83c7e-a10f-45a1-9128-bf8b2814c5e9"
      },
      "execution_count": null,
      "outputs": [
        {
          "output_type": "stream",
          "name": "stdout",
          "text": [
            "Logistica: f1=0.962 auc=0.971\n"
          ]
        },
        {
          "output_type": "display_data",
          "data": {
            "image/png": "[encoded data removed]",
            "text/plain": [
              "<Figure size 432x288 with 1 Axes>"
            ]
          },
          "metadata": {
            "needs_background": "light"
          }
        }
      ]
    },
    {
      "cell_type": "markdown",
      "source": [
        "## Regresión Logistica Tuneada"
      ],
      "metadata": {
        "id": "UF5w2dROAKES"
      }
    },
    {
      "cell_type": "code",
      "source": [
        "from sklearn.linear_model import LogisticRegression\n",
        "from sklearn.model_selection import cross_val_score\n",
        "from sklearn import metrics\n",
        "\n",
        "LR_model = LogisticRegression()"
      ],
      "metadata": {
        "id": "759-HmT6AIqD"
      },
      "execution_count": null,
      "outputs": []
    },
    {
      "cell_type": "code",
      "source": [
        "parametros = {'C': [0.001, 0.01, 0.1, 1, 10, 100, 1000] ,\n",
        "              'penalty':['l1','l2']}"
      ],
      "metadata": {
        "id": "AWWmZRz0BKVL"
      },
      "execution_count": null,
      "outputs": []
    },
    {
      "cell_type": "code",
      "source": [
        "from sklearn.model_selection import GridSearchCV\n",
        "\n",
        "LR = GridSearchCV(LR_model,parametros, cv = 5)\n",
        "LR.fit(x_train,y_train)"
      ],
      "metadata": {
        "colab": {
          "base_uri": "https://localhost:8080/"
        },
        "id": "PNacaVsrBKXv",
        "outputId": "f0b9f665-4d16-4141-b5bd-ce19913fc7c3"
      },
      "execution_count": null,
      "outputs": [
        {
          "output_type": "stream",
          "name": "stderr",
          "text": [
            "/usr/local/lib/python3.7/dist-packages/sklearn/linear_model/_logistic.py:818: ConvergenceWarning: lbfgs failed to converge (status=1):\n",
            "STOP: TOTAL NO. of ITERATIONS REACHED LIMIT.\n",
            "\n",
            "Increase the number of iterations (max_iter) or scale the data as shown in:\n",
            "    https://scikit-learn.org/stable/modules/preprocessing.html\n",
            "Please also refer to the documentation for alternative solver options:\n",
            "    https://scikit-learn.org/stable/modules/linear_model.html#logistic-regression\n",
            "  extra_warning_msg=_LOGISTIC_SOLVER_CONVERGENCE_MSG,\n",
            "/usr/local/lib/python3.7/dist-packages/sklearn/linear_model/_logistic.py:818: ConvergenceWarning: lbfgs failed to converge (status=1):\n",
            "STOP: TOTAL NO. of ITERATIONS REACHED LIMIT.\n",
            "\n",
            "Increase the number of iterations (max_iter) or scale the data as shown in:\n",
            "    https://scikit-learn.org/stable/modules/preprocessing.html\n",
            "Please also refer to the documentation for alternative solver options:\n",
            "    https://scikit-learn.org/stable/modules/linear_model.html#logistic-regression\n",
            "  extra_warning_msg=_LOGISTIC_SOLVER_CONVERGENCE_MSG,\n",
            "/usr/local/lib/python3.7/dist-packages/sklearn/linear_model/_logistic.py:818: ConvergenceWarning: lbfgs failed to converge (status=1):\n",
            "STOP: TOTAL NO. of ITERATIONS REACHED LIMIT.\n",
            "\n",
            "Increase the number of iterations (max_iter) or scale the data as shown in:\n",
            "    https://scikit-learn.org/stable/modules/preprocessing.html\n",
            "Please also refer to the documentation for alternative solver options:\n",
            "    https://scikit-learn.org/stable/modules/linear_model.html#logistic-regression\n",
            "  extra_warning_msg=_LOGISTIC_SOLVER_CONVERGENCE_MSG,\n",
            "/usr/local/lib/python3.7/dist-packages/sklearn/linear_model/_logistic.py:818: ConvergenceWarning: lbfgs failed to converge (status=1):\n",
            "STOP: TOTAL NO. of ITERATIONS REACHED LIMIT.\n",
            "\n",
            "Increase the number of iterations (max_iter) or scale the data as shown in:\n",
            "    https://scikit-learn.org/stable/modules/preprocessing.html\n",
            "Please also refer to the documentation for alternative solver options:\n",
            "    https://scikit-learn.org/stable/modules/linear_model.html#logistic-regression\n",
            "  extra_warning_msg=_LOGISTIC_SOLVER_CONVERGENCE_MSG,\n",
            "/usr/local/lib/python3.7/dist-packages/sklearn/linear_model/_logistic.py:818: ConvergenceWarning: lbfgs failed to converge (status=1):\n",
            "STOP: TOTAL NO. of ITERATIONS REACHED LIMIT.\n",
            "\n",
            "Increase the number of iterations (max_iter) or scale the data as shown in:\n",
            "    https://scikit-learn.org/stable/modules/preprocessing.html\n",
            "Please also refer to the documentation for alternative solver options:\n",
            "    https://scikit-learn.org/stable/modules/linear_model.html#logistic-regression\n",
            "  extra_warning_msg=_LOGISTIC_SOLVER_CONVERGENCE_MSG,\n",
            "/usr/local/lib/python3.7/dist-packages/sklearn/linear_model/_logistic.py:818: ConvergenceWarning: lbfgs failed to converge (status=1):\n",
            "STOP: TOTAL NO. of ITERATIONS REACHED LIMIT.\n",
            "\n",
            "Increase the number of iterations (max_iter) or scale the data as shown in:\n",
            "    https://scikit-learn.org/stable/modules/preprocessing.html\n",
            "Please also refer to the documentation for alternative solver options:\n",
            "    https://scikit-learn.org/stable/modules/linear_model.html#logistic-regression\n",
            "  extra_warning_msg=_LOGISTIC_SOLVER_CONVERGENCE_MSG,\n",
            "/usr/local/lib/python3.7/dist-packages/sklearn/linear_model/_logistic.py:818: ConvergenceWarning: lbfgs failed to converge (status=1):\n",
            "STOP: TOTAL NO. of ITERATIONS REACHED LIMIT.\n",
            "\n",
            "Increase the number of iterations (max_iter) or scale the data as shown in:\n",
            "    https://scikit-learn.org/stable/modules/preprocessing.html\n",
            "Please also refer to the documentation for alternative solver options:\n",
            "    https://scikit-learn.org/stable/modules/linear_model.html#logistic-regression\n",
            "  extra_warning_msg=_LOGISTIC_SOLVER_CONVERGENCE_MSG,\n",
            "/usr/local/lib/python3.7/dist-packages/sklearn/linear_model/_logistic.py:818: ConvergenceWarning: lbfgs failed to converge (status=1):\n",
            "STOP: TOTAL NO. of ITERATIONS REACHED LIMIT.\n",
            "\n",
            "Increase the number of iterations (max_iter) or scale the data as shown in:\n",
            "    https://scikit-learn.org/stable/modules/preprocessing.html\n",
            "Please also refer to the documentation for alternative solver options:\n",
            "    https://scikit-learn.org/stable/modules/linear_model.html#logistic-regression\n",
            "  extra_warning_msg=_LOGISTIC_SOLVER_CONVERGENCE_MSG,\n",
            "/usr/local/lib/python3.7/dist-packages/sklearn/model_selection/_validation.py:372: FitFailedWarning: \n",
            "35 fits failed out of a total of 70.\n",
            "The score on these train-test partitions for these parameters will be set to nan.\n",
            "If these failures are not expected, you can try to debug them by setting error_score='raise'.\n",
            "\n",
            "Below are more details about the failures:\n",
            "--------------------------------------------------------------------------------\n",
            "35 fits failed with the following error:\n",
            "Traceback (most recent call last):\n",
            "  File \"/usr/local/lib/python3.7/dist-packages/sklearn/model_selection/_validation.py\", line 681, in _fit_and_score\n",
            "    estimator.fit(X_train, y_train, **fit_params)\n",
            "  File \"/usr/local/lib/python3.7/dist-packages/sklearn/linear_model/_logistic.py\", line 1461, in fit\n",
            "    solver = _check_solver(self.solver, self.penalty, self.dual)\n",
            "  File \"/usr/local/lib/python3.7/dist-packages/sklearn/linear_model/_logistic.py\", line 449, in _check_solver\n",
            "    % (solver, penalty)\n",
            "ValueError: Solver lbfgs supports only 'l2' or 'none' penalties, got l1 penalty.\n",
            "\n",
            "  warnings.warn(some_fits_failed_message, FitFailedWarning)\n",
            "/usr/local/lib/python3.7/dist-packages/sklearn/model_selection/_search.py:972: UserWarning: One or more of the test scores are non-finite: [       nan 0.89952342        nan 0.93337502        nan 0.94922343\n",
            "        nan 0.95476307        nan 0.96584201        nan 0.96768828\n",
            "        nan 0.96753443]\n",
            "  category=UserWarning,\n",
            "/usr/local/lib/python3.7/dist-packages/sklearn/linear_model/_logistic.py:818: ConvergenceWarning: lbfgs failed to converge (status=1):\n",
            "STOP: TOTAL NO. of ITERATIONS REACHED LIMIT.\n",
            "\n",
            "Increase the number of iterations (max_iter) or scale the data as shown in:\n",
            "    https://scikit-learn.org/stable/modules/preprocessing.html\n",
            "Please also refer to the documentation for alternative solver options:\n",
            "    https://scikit-learn.org/stable/modules/linear_model.html#logistic-regression\n",
            "  extra_warning_msg=_LOGISTIC_SOLVER_CONVERGENCE_MSG,\n"
          ]
        },
        {
          "output_type": "execute_result",
          "data": {
            "text/plain": [
              "GridSearchCV(cv=5, estimator=LogisticRegression(),\n",
              "             param_grid={'C': [0.001, 0.01, 0.1, 1, 10, 100, 1000],\n",
              "                         'penalty': ['l1', 'l2']})"
            ]
          },
          "metadata": {},
          "execution_count": 163
        }
      ]
    },
    {
      "cell_type": "code",
      "source": [
        "print(\"Mejor combinacion de parametros\",LR.best_params_)"
      ],
      "metadata": {
        "colab": {
          "base_uri": "https://localhost:8080/"
        },
        "id": "d7MY1KLJBKZ4",
        "outputId": "389a6d1c-ab2a-4b88-d932-9c6f954b42ec"
      },
      "execution_count": null,
      "outputs": [
        {
          "output_type": "stream",
          "name": "stdout",
          "text": [
            "Mejor combinacion de parametros {'C': 100, 'penalty': 'l2'}\n"
          ]
        }
      ]
    },
    {
      "cell_type": "markdown",
      "source": [
        "### Evaluamos al modelo"
      ],
      "metadata": {
        "id": "lBB8B3vcfsmg"
      }
    },
    {
      "cell_type": "code",
      "source": [
        "#imprimimos matriz de confusion de la regresion\n",
        "from sklearn.metrics import confusion_matrix\n",
        "#predecimos \n",
        "y_predic = LR.predict(x_test)\n",
        "pd.DataFrame(confusion_matrix(y_test,y_predic), columns = ['Predecido Normal', 'Predecido venenoso'], index = ['Verdaderamente normal', 'verdaderamente venenoso'])"
      ],
      "metadata": {
        "colab": {
          "base_uri": "https://localhost:8080/",
          "height": 112
        },
        "id": "_mjbPFtwHloW",
        "outputId": "7193a078-61f6-4163-c4c2-9caf88b84119"
      },
      "execution_count": null,
      "outputs": [
        {
          "output_type": "execute_result",
          "data": {
            "text/html": [
              "\n",
              "  <div id=\"df-a7929711-c46d-4f02-8d45-c2bcca721e85\">\n",
              "    <div class=\"colab-df-container\">\n",
              "      <div>\n",
              "<style scoped>\n",
              "    .dataframe tbody tr th:only-of-type {\n",
              "        vertical-align: middle;\n",
              "    }\n",
              "\n",
              "    .dataframe tbody tr th {\n",
              "        vertical-align: top;\n",
              "    }\n",
              "\n",
              "    .dataframe thead th {\n",
              "        text-align: right;\n",
              "    }\n",
              "</style>\n",
              "<table border=\"1\" class=\"dataframe\">\n",
              "  <thead>\n",
              "    <tr style=\"text-align: right;\">\n",
              "      <th></th>\n",
              "      <th>Predecido Normal</th>\n",
              "      <th>Predecido venenoso</th>\n",
              "    </tr>\n",
              "  </thead>\n",
              "  <tbody>\n",
              "    <tr>\n",
              "      <th>Verdaderamente normal</th>\n",
              "      <td>813</td>\n",
              "      <td>29</td>\n",
              "    </tr>\n",
              "    <tr>\n",
              "      <th>verdaderamente venenoso</th>\n",
              "      <td>16</td>\n",
              "      <td>767</td>\n",
              "    </tr>\n",
              "  </tbody>\n",
              "</table>\n",
              "</div>\n",
              "      <button class=\"colab-df-convert\" onclick=\"convertToInteractive('df-a7929711-c46d-4f02-8d45-c2bcca721e85')\"\n",
              "              title=\"Convert this dataframe to an interactive table.\"\n",
              "              style=\"display:none;\">\n",
              "        \n",
              "  <svg xmlns=\"http://www.w3.org/2000/svg\" height=\"24px\"viewBox=\"0 0 24 24\"\n",
              "       width=\"24px\">\n",
              "    <path d=\"M0 0h24v24H0V0z\" fill=\"none\"/>\n",
              "    <path d=\"M18.56 5.44l.94 2.06.94-2.06 2.06-.94-2.06-.94-.94-2.06-.94 2.06-2.06.94zm-11 1L8.5 8.5l.94-2.06 2.06-.94-2.06-.94L8.5 2.5l-.94 2.06-2.06.94zm10 10l.94 2.06.94-2.06 2.06-.94-2.06-.94-.94-2.06-.94 2.06-2.06.94z\"/><path d=\"M17.41 7.96l-1.37-1.37c-.4-.4-.92-.59-1.43-.59-.52 0-1.04.2-1.43.59L10.3 9.45l-7.72 7.72c-.78.78-.78 2.05 0 2.83L4 21.41c.39.39.9.59 1.41.59.51 0 1.02-.2 1.41-.59l7.78-7.78 2.81-2.81c.8-.78.8-2.07 0-2.86zM5.41 20L4 18.59l7.72-7.72 1.47 1.35L5.41 20z\"/>\n",
              "  </svg>\n",
              "      </button>\n",
              "      \n",
              "  <style>\n",
              "    .colab-df-container {\n",
              "      display:flex;\n",
              "      flex-wrap:wrap;\n",
              "      gap: 12px;\n",
              "    }\n",
              "\n",
              "    .colab-df-convert {\n",
              "      background-color: #E8F0FE;\n",
              "      border: none;\n",
              "      border-radius: 50%;\n",
              "      cursor: pointer;\n",
              "      display: none;\n",
              "      fill: #1967D2;\n",
              "      height: 32px;\n",
              "      padding: 0 0 0 0;\n",
              "      width: 32px;\n",
              "    }\n",
              "\n",
              "    .colab-df-convert:hover {\n",
              "      background-color: #E2EBFA;\n",
              "      box-shadow: 0px 1px 2px rgba(60, 64, 67, 0.3), 0px 1px 3px 1px rgba(60, 64, 67, 0.15);\n",
              "      fill: #174EA6;\n",
              "    }\n",
              "\n",
              "    [theme=dark] .colab-df-convert {\n",
              "      background-color: #3B4455;\n",
              "      fill: #D2E3FC;\n",
              "    }\n",
              "\n",
              "    [theme=dark] .colab-df-convert:hover {\n",
              "      background-color: #434B5C;\n",
              "      box-shadow: 0px 1px 3px 1px rgba(0, 0, 0, 0.15);\n",
              "      filter: drop-shadow(0px 1px 2px rgba(0, 0, 0, 0.3));\n",
              "      fill: #FFFFFF;\n",
              "    }\n",
              "  </style>\n",
              "\n",
              "      <script>\n",
              "        const buttonEl =\n",
              "          document.querySelector('#df-a7929711-c46d-4f02-8d45-c2bcca721e85 button.colab-df-convert');\n",
              "        buttonEl.style.display =\n",
              "          google.colab.kernel.accessAllowed ? 'block' : 'none';\n",
              "\n",
              "        async function convertToInteractive(key) {\n",
              "          const element = document.querySelector('#df-a7929711-c46d-4f02-8d45-c2bcca721e85');\n",
              "          const dataTable =\n",
              "            await google.colab.kernel.invokeFunction('convertToInteractive',\n",
              "                                                     [key], {});\n",
              "          if (!dataTable) return;\n",
              "\n",
              "          const docLinkHtml = 'Like what you see? Visit the ' +\n",
              "            '<a target=\"_blank\" href=https://colab.research.google.com/notebooks/data_table.ipynb>data table notebook</a>'\n",
              "            + ' to learn more about interactive tables.';\n",
              "          element.innerHTML = '';\n",
              "          dataTable['output_type'] = 'display_data';\n",
              "          await google.colab.output.renderOutput(dataTable, element);\n",
              "          const docLink = document.createElement('div');\n",
              "          docLink.innerHTML = docLinkHtml;\n",
              "          element.appendChild(docLink);\n",
              "        }\n",
              "      </script>\n",
              "    </div>\n",
              "  </div>\n",
              "  "
            ],
            "text/plain": [
              "                         Predecido Normal  Predecido venenoso\n",
              "Verdaderamente normal                 813                  29\n",
              "verdaderamente venenoso                16                 767"
            ]
          },
          "metadata": {},
          "execution_count": 165
        }
      ]
    },
    {
      "cell_type": "markdown",
      "source": [
        "Se ve que haciendo hiperparametros mejoramos en 2 los predecidos normales y en 13 los predecidos venesosos, un monton"
      ],
      "metadata": {
        "id": "KEBaIyuKIzsG"
      }
    },
    {
      "cell_type": "markdown",
      "source": [
        "#### ROC/AUC"
      ],
      "metadata": {
        "id": "5Z6opJhwfxFf"
      }
    },
    {
      "cell_type": "code",
      "source": [
        "#Evaluamos el performance\n",
        "auc_roc=metrics.roc_auc_score(y_test,y_predic)\n",
        "print(auc_roc)"
      ],
      "metadata": {
        "colab": {
          "base_uri": "https://localhost:8080/"
        },
        "id": "4oLyv-ZJf4XJ",
        "outputId": "be27a9bf-cd88-4edd-9554-5fdac8a0917e"
      },
      "execution_count": null,
      "outputs": [
        {
          "output_type": "stream",
          "name": "stdout",
          "text": [
            "0.9725619837217839\n"
          ]
        }
      ]
    },
    {
      "cell_type": "code",
      "source": [
        "from sklearn.metrics import roc_curve, auc\n",
        "false_positive_rate, true_positive_rate, thresholds = roc_curve(y_test, y_predic)\n",
        "roc_auc = auc(false_positive_rate, true_positive_rate)\n",
        "roc_auc"
      ],
      "metadata": {
        "colab": {
          "base_uri": "https://localhost:8080/"
        },
        "id": "ze0CoyEKI8U7",
        "outputId": "f8ea40f3-86cb-4784-a998-729cb02c1ae4"
      },
      "execution_count": null,
      "outputs": [
        {
          "output_type": "execute_result",
          "data": {
            "text/plain": [
              "0.9725619837217839"
            ]
          },
          "metadata": {},
          "execution_count": 167
        }
      ]
    },
    {
      "cell_type": "code",
      "source": [
        "import matplotlib.pyplot as plt\n",
        "plt.figure(figsize =(7,7))\n",
        "plt.title(\"Receiver Operating Characteristic(ROC\")\n",
        "plt.plot(false_positive_rate,true_positive_rate, color='red',label = 'AUC = %0.2f' % roc_auc)\n",
        "plt.plot([0, 1], [0, 1],linestyle='--')\n",
        "plt.axis('tight')\n",
        "plt.ylabel('True Positive Rate')\n",
        "plt.xlabel('False Positive Rate')"
      ],
      "metadata": {
        "colab": {
          "base_uri": "https://localhost:8080/",
          "height": 476
        },
        "id": "cT1j3sm2gDc5",
        "outputId": "3ec2da6b-958b-47db-b578-afc1717b4817"
      },
      "execution_count": null,
      "outputs": [
        {
          "output_type": "execute_result",
          "data": {
            "text/plain": [
              "Text(0.5, 0, 'False Positive Rate')"
            ]
          },
          "metadata": {},
          "execution_count": 168
        },
        {
          "output_type": "display_data",
          "data": {
            "image/png": "[encoded data removed]",
            "text/plain": [
              "<Figure size 504x504 with 1 Axes>"
            ]
          },
          "metadata": {
            "needs_background": "light"
          }
        }
      ]
    },
    {
      "cell_type": "markdown",
      "source": [
        "#### PRC"
      ],
      "metadata": {
        "id": "kZp_YWQbgMqL"
      }
    },
    {
      "cell_type": "code",
      "source": [
        "#importamos las librerias\n",
        "from sklearn.metrics import precision_recall_curve\n",
        "from sklearn.metrics import f1_score\n"
      ],
      "metadata": {
        "id": "Y3IYQ-g4gNgO"
      },
      "execution_count": null,
      "outputs": []
    },
    {
      "cell_type": "code",
      "source": [
        "#sacamos las metricas\n",
        "lr_precision, lr_recall, _ = precision_recall_curve(y_test, y_predic)\n",
        "lr_f1, lr_auc = f1_score(y_test, y_predic), auc(lr_recall, lr_precision)\n",
        "# sumamos los scores e imprimimos\n",
        "print('Logistica: f1=%.3f auc=%.3f' % (lr_f1, lr_auc))"
      ],
      "metadata": {
        "colab": {
          "base_uri": "https://localhost:8080/"
        },
        "id": "pP0u5dxagTNJ",
        "outputId": "d950ba76-e81c-4c85-db42-1aef17bfa4ab"
      },
      "execution_count": null,
      "outputs": [
        {
          "output_type": "stream",
          "name": "stdout",
          "text": [
            "Logistica: f1=0.972 auc=0.976\n"
          ]
        }
      ]
    },
    {
      "cell_type": "code",
      "source": [
        "# graficamos el prc\n",
        "plt.plot(lr_recall, lr_precision, marker='.', label='Logistic')\n",
        "# axis labels\n",
        "plt.xlabel('Recall')\n",
        "plt.ylabel('Precision')\n",
        "# show the legend\n",
        "plt.legend()\n",
        "# show the plot\n",
        "plt.show()"
      ],
      "metadata": {
        "colab": {
          "base_uri": "https://localhost:8080/",
          "height": 279
        },
        "id": "cCdxFmxygYqD",
        "outputId": "960f35c3-769d-41a1-936b-cb29fda50795"
      },
      "execution_count": null,
      "outputs": [
        {
          "output_type": "display_data",
          "data": {
            "image/png": "[encoded data removed]",
            "text/plain": [
              "<Figure size 432x288 with 1 Axes>"
            ]
          },
          "metadata": {
            "needs_background": "light"
          }
        }
      ]
    },
    {
      "cell_type": "markdown",
      "source": [
        "## Desicion Tree"
      ],
      "metadata": {
        "id": "ELAdqmdbaXEm"
      }
    },
    {
      "cell_type": "code",
      "source": [
        "#Importamos el modelo\n",
        "from sklearn.tree import DecisionTreeClassifier\n",
        "dt = DecisionTreeClassifier(random_state = 0)"
      ],
      "metadata": {
        "id": "jAs7i1XsaZlM"
      },
      "execution_count": null,
      "outputs": []
    },
    {
      "cell_type": "code",
      "source": [
        "#Entrenamos\n",
        "dt.fit(x_train,y_train)"
      ],
      "metadata": {
        "colab": {
          "base_uri": "https://localhost:8080/"
        },
        "id": "BvQOqIMqaZ2l",
        "outputId": "67b4d39f-7e02-4b6d-b5fa-9f0fdcbf4649"
      },
      "execution_count": null,
      "outputs": [
        {
          "output_type": "execute_result",
          "data": {
            "text/plain": [
              "DecisionTreeClassifier(random_state=0)"
            ]
          },
          "metadata": {},
          "execution_count": 195
        }
      ]
    },
    {
      "cell_type": "code",
      "source": [
        "#imprimimos matriz de confusion de la regresion\n",
        "from sklearn.metrics import confusion_matrix\n",
        "#predecimos \n",
        "y_predic = dt.predict(x_test)\n",
        "pd.DataFrame(confusion_matrix(y_test,y_predic), columns = ['Predecido Normal', 'Predecido venenoso'], index = ['Verdaderamente normal', 'verdaderamente venenoso'])"
      ],
      "metadata": {
        "colab": {
          "base_uri": "https://localhost:8080/",
          "height": 112
        },
        "id": "Ehm7iF4Na_wH",
        "outputId": "a7e6fe96-b29f-479b-8e23-9ac9607facb9"
      },
      "execution_count": null,
      "outputs": [
        {
          "output_type": "execute_result",
          "data": {
            "text/html": [
              "\n",
              "  <div id=\"df-f14a9ccc-face-49ef-9ca7-a5ba658203df\">\n",
              "    <div class=\"colab-df-container\">\n",
              "      <div>\n",
              "<style scoped>\n",
              "    .dataframe tbody tr th:only-of-type {\n",
              "        vertical-align: middle;\n",
              "    }\n",
              "\n",
              "    .dataframe tbody tr th {\n",
              "        vertical-align: top;\n",
              "    }\n",
              "\n",
              "    .dataframe thead th {\n",
              "        text-align: right;\n",
              "    }\n",
              "</style>\n",
              "<table border=\"1\" class=\"dataframe\">\n",
              "  <thead>\n",
              "    <tr style=\"text-align: right;\">\n",
              "      <th></th>\n",
              "      <th>Predecido Normal</th>\n",
              "      <th>Predecido venenoso</th>\n",
              "    </tr>\n",
              "  </thead>\n",
              "  <tbody>\n",
              "    <tr>\n",
              "      <th>Verdaderamente normal</th>\n",
              "      <td>842</td>\n",
              "      <td>0</td>\n",
              "    </tr>\n",
              "    <tr>\n",
              "      <th>verdaderamente venenoso</th>\n",
              "      <td>0</td>\n",
              "      <td>783</td>\n",
              "    </tr>\n",
              "  </tbody>\n",
              "</table>\n",
              "</div>\n",
              "      <button class=\"colab-df-convert\" onclick=\"convertToInteractive('df-f14a9ccc-face-49ef-9ca7-a5ba658203df')\"\n",
              "              title=\"Convert this dataframe to an interactive table.\"\n",
              "              style=\"display:none;\">\n",
              "        \n",
              "  <svg xmlns=\"http://www.w3.org/2000/svg\" height=\"24px\"viewBox=\"0 0 24 24\"\n",
              "       width=\"24px\">\n",
              "    <path d=\"M0 0h24v24H0V0z\" fill=\"none\"/>\n",
              "    <path d=\"M18.56 5.44l.94 2.06.94-2.06 2.06-.94-2.06-.94-.94-2.06-.94 2.06-2.06.94zm-11 1L8.5 8.5l.94-2.06 2.06-.94-2.06-.94L8.5 2.5l-.94 2.06-2.06.94zm10 10l.94 2.06.94-2.06 2.06-.94-2.06-.94-.94-2.06-.94 2.06-2.06.94z\"/><path d=\"M17.41 7.96l-1.37-1.37c-.4-.4-.92-.59-1.43-.59-.52 0-1.04.2-1.43.59L10.3 9.45l-7.72 7.72c-.78.78-.78 2.05 0 2.83L4 21.41c.39.39.9.59 1.41.59.51 0 1.02-.2 1.41-.59l7.78-7.78 2.81-2.81c.8-.78.8-2.07 0-2.86zM5.41 20L4 18.59l7.72-7.72 1.47 1.35L5.41 20z\"/>\n",
              "  </svg>\n",
              "      </button>\n",
              "      \n",
              "  <style>\n",
              "    .colab-df-container {\n",
              "      display:flex;\n",
              "      flex-wrap:wrap;\n",
              "      gap: 12px;\n",
              "    }\n",
              "\n",
              "    .colab-df-convert {\n",
              "      background-color: #E8F0FE;\n",
              "      border: none;\n",
              "      border-radius: 50%;\n",
              "      cursor: pointer;\n",
              "      display: none;\n",
              "      fill: #1967D2;\n",
              "      height: 32px;\n",
              "      padding: 0 0 0 0;\n",
              "      width: 32px;\n",
              "    }\n",
              "\n",
              "    .colab-df-convert:hover {\n",
              "      background-color: #E2EBFA;\n",
              "      box-shadow: 0px 1px 2px rgba(60, 64, 67, 0.3), 0px 1px 3px 1px rgba(60, 64, 67, 0.15);\n",
              "      fill: #174EA6;\n",
              "    }\n",
              "\n",
              "    [theme=dark] .colab-df-convert {\n",
              "      background-color: #3B4455;\n",
              "      fill: #D2E3FC;\n",
              "    }\n",
              "\n",
              "    [theme=dark] .colab-df-convert:hover {\n",
              "      background-color: #434B5C;\n",
              "      box-shadow: 0px 1px 3px 1px rgba(0, 0, 0, 0.15);\n",
              "      filter: drop-shadow(0px 1px 2px rgba(0, 0, 0, 0.3));\n",
              "      fill: #FFFFFF;\n",
              "    }\n",
              "  </style>\n",
              "\n",
              "      <script>\n",
              "        const buttonEl =\n",
              "          document.querySelector('#df-f14a9ccc-face-49ef-9ca7-a5ba658203df button.colab-df-convert');\n",
              "        buttonEl.style.display =\n",
              "          google.colab.kernel.accessAllowed ? 'block' : 'none';\n",
              "\n",
              "        async function convertToInteractive(key) {\n",
              "          const element = document.querySelector('#df-f14a9ccc-face-49ef-9ca7-a5ba658203df');\n",
              "          const dataTable =\n",
              "            await google.colab.kernel.invokeFunction('convertToInteractive',\n",
              "                                                     [key], {});\n",
              "          if (!dataTable) return;\n",
              "\n",
              "          const docLinkHtml = 'Like what you see? Visit the ' +\n",
              "            '<a target=\"_blank\" href=https://colab.research.google.com/notebooks/data_table.ipynb>data table notebook</a>'\n",
              "            + ' to learn more about interactive tables.';\n",
              "          element.innerHTML = '';\n",
              "          dataTable['output_type'] = 'display_data';\n",
              "          await google.colab.output.renderOutput(dataTable, element);\n",
              "          const docLink = document.createElement('div');\n",
              "          docLink.innerHTML = docLinkHtml;\n",
              "          element.appendChild(docLink);\n",
              "        }\n",
              "      </script>\n",
              "    </div>\n",
              "  </div>\n",
              "  "
            ],
            "text/plain": [
              "                         Predecido Normal  Predecido venenoso\n",
              "Verdaderamente normal                 842                   0\n",
              "verdaderamente venenoso                 0                 783"
            ]
          },
          "metadata": {},
          "execution_count": 196
        }
      ]
    },
    {
      "cell_type": "code",
      "source": [
        "#Imprimimos el arbol de desicion\n",
        "tree.plot_tree(dt)"
      ],
      "metadata": {
        "colab": {
          "base_uri": "https://localhost:8080/",
          "height": 881
        },
        "id": "DaDYtuKMbI9r",
        "outputId": "2a5abcc5-0e2f-4c75-f994-c28b410ee9e4"
      },
      "execution_count": null,
      "outputs": [
        {
          "output_type": "execute_result",
          "data": {
            "text/plain": [
              "[Text(145.56521739130434, 203.85, 'X[8] <= -0.37\\ngini = 0.499\\nsamples = 6499\\nvalue = [3366, 3133]'),\n",
              " Text(72.78260869565217, 176.67000000000002, 'X[20] <= -0.115\\ngini = 0.284\\nsamples = 2654\\nvalue = [455, 2199]'),\n",
              " Text(29.11304347826087, 149.49, 'X[19] <= -0.88\\ngini = 0.212\\nsamples = 481\\nvalue = [423, 58]'),\n",
              " Text(14.556521739130435, 122.31, 'gini = 0.0\\nsamples = 43\\nvalue = [0, 43]'),\n",
              " Text(43.66956521739131, 122.31, 'X[7] <= 0.413\\ngini = 0.066\\nsamples = 438\\nvalue = [423, 15]'),\n",
              " Text(29.11304347826087, 95.13, 'gini = 0.0\\nsamples = 423\\nvalue = [423, 0]'),\n",
              " Text(58.22608695652174, 95.13, 'gini = 0.0\\nsamples = 15\\nvalue = [0, 15]'),\n",
              " Text(116.45217391304348, 149.49, 'X[10] <= 0.839\\ngini = 0.029\\nsamples = 2173\\nvalue = [32, 2141]'),\n",
              " Text(101.89565217391305, 122.31, 'X[12] <= -1.633\\ngini = 0.009\\nsamples = 2151\\nvalue = [10, 2141]'),\n",
              " Text(87.33913043478262, 95.13, 'X[4] <= -0.307\\ngini = 0.459\\nsamples = 28\\nvalue = [10, 18]'),\n",
              " Text(72.78260869565217, 67.94999999999999, 'gini = 0.0\\nsamples = 18\\nvalue = [0, 18]'),\n",
              " Text(101.89565217391305, 67.94999999999999, 'gini = 0.0\\nsamples = 10\\nvalue = [10, 0]'),\n",
              " Text(116.45217391304348, 95.13, 'gini = 0.0\\nsamples = 2123\\nvalue = [0, 2123]'),\n",
              " Text(131.0086956521739, 122.31, 'gini = 0.0\\nsamples = 22\\nvalue = [22, 0]'),\n",
              " Text(218.34782608695653, 176.67000000000002, 'X[19] <= -0.88\\ngini = 0.368\\nsamples = 3845\\nvalue = [2911, 934]'),\n",
              " Text(174.67826086956524, 149.49, 'X[10] <= -0.575\\ngini = 0.209\\nsamples = 572\\nvalue = [68, 504]'),\n",
              " Text(160.12173913043478, 122.31, 'gini = 0.0\\nsamples = 68\\nvalue = [68, 0]'),\n",
              " Text(189.23478260869567, 122.31, 'gini = 0.0\\nsamples = 504\\nvalue = [0, 504]'),\n",
              " Text(262.0173913043478, 149.49, 'X[7] <= 0.413\\ngini = 0.228\\nsamples = 3273\\nvalue = [2843, 430]'),\n",
              " Text(218.34782608695653, 122.31, 'X[17] <= -2.101\\ngini = 0.045\\nsamples = 2739\\nvalue = [2676, 63]'),\n",
              " Text(203.7913043478261, 95.13, 'gini = 0.0\\nsamples = 25\\nvalue = [0, 25]'),\n",
              " Text(232.90434782608696, 95.13, 'X[17] <= 1.589\\ngini = 0.028\\nsamples = 2714\\nvalue = [2676, 38]'),\n",
              " Text(218.34782608695653, 67.94999999999999, 'gini = 0.0\\nsamples = 2416\\nvalue = [2416, 0]'),\n",
              " Text(247.4608695652174, 67.94999999999999, 'X[19] <= 1.009\\ngini = 0.223\\nsamples = 298\\nvalue = [260, 38]'),\n",
              " Text(232.90434782608696, 40.77000000000001, 'gini = 0.0\\nsamples = 38\\nvalue = [0, 38]'),\n",
              " Text(262.0173913043478, 40.77000000000001, 'gini = 0.0\\nsamples = 260\\nvalue = [260, 0]'),\n",
              " Text(305.68695652173915, 122.31, 'X[9] <= -0.136\\ngini = 0.43\\nsamples = 534\\nvalue = [167, 367]'),\n",
              " Text(291.1304347826087, 95.13, 'X[21] <= -0.005\\ngini = 0.329\\nsamples = 463\\nvalue = [96, 367]'),\n",
              " Text(276.5739130434783, 67.94999999999999, 'gini = 0.0\\nsamples = 250\\nvalue = [0, 250]'),\n",
              " Text(305.68695652173915, 67.94999999999999, 'X[3] <= 0.171\\ngini = 0.495\\nsamples = 213\\nvalue = [96, 117]'),\n",
              " Text(291.1304347826087, 40.77000000000001, 'X[12] <= 1.326\\ngini = 0.142\\nsamples = 104\\nvalue = [96, 8]'),\n",
              " Text(276.5739130434783, 13.590000000000003, 'gini = 0.0\\nsamples = 96\\nvalue = [96, 0]'),\n",
              " Text(305.68695652173915, 13.590000000000003, 'gini = 0.0\\nsamples = 8\\nvalue = [0, 8]'),\n",
              " Text(320.24347826086955, 40.77000000000001, 'gini = 0.0\\nsamples = 109\\nvalue = [0, 109]'),\n",
              " Text(320.24347826086955, 95.13, 'gini = 0.0\\nsamples = 71\\nvalue = [71, 0]')]"
            ]
          },
          "metadata": {},
          "execution_count": 197
        },
        {
          "output_type": "display_data",
          "data": {
            "image/png": "[encoded data removed]",
            "text/plain": [
              "<Figure size 432x288 with 1 Axes>"
            ]
          },
          "metadata": {
            "needs_background": "light"
          }
        }
      ]
    },
    {
      "cell_type": "markdown",
      "source": [
        "### Evaluamos el modelo"
      ],
      "metadata": {
        "id": "U8TXolEXcE3F"
      }
    },
    {
      "cell_type": "markdown",
      "source": [
        "#### ROC/AUC"
      ],
      "metadata": {
        "id": "C_-R8itkcHtN"
      }
    },
    {
      "cell_type": "markdown",
      "source": [
        "## KNN Means"
      ],
      "metadata": {
        "id": "Cz8p82EWg_kh"
      }
    },
    {
      "cell_type": "code",
      "source": [
        "#Importamos libreria y creamos el objeto\n",
        "from sklearn.cluster import  KMeans\n",
        "knn_model =  KMeans(n_clusters = 2)"
      ],
      "metadata": {
        "id": "v1W8FznIhCjc"
      },
      "execution_count": null,
      "outputs": []
    },
    {
      "cell_type": "code",
      "source": [
        "#Entrenamos al modelo\n",
        "knn_model.fit(x_train,y_train)"
      ],
      "metadata": {
        "colab": {
          "base_uri": "https://localhost:8080/"
        },
        "id": "UuerhhRWkz0v",
        "outputId": "5016e589-cc4b-4335-8df6-699cb34cd171"
      },
      "execution_count": null,
      "outputs": [
        {
          "output_type": "execute_result",
          "data": {
            "text/plain": [
              "KMeans(n_clusters=2)"
            ]
          },
          "metadata": {},
          "execution_count": 173
        }
      ]
    },
    {
      "cell_type": "code",
      "source": [
        "#imprimimos matriz de confusion de la regresion\n",
        "from sklearn.metrics import confusion_matrix\n",
        "#predecimos \n",
        "y_predic = knn_model.predict(x_test)\n",
        "pd.DataFrame(confusion_matrix(y_test,y_predic), columns = ['Predecido Normal', 'Predecido venenoso'], index = ['Verdaderamente normal', 'verdaderamente venenoso'])"
      ],
      "metadata": {
        "colab": {
          "base_uri": "https://localhost:8080/",
          "height": 112
        },
        "id": "JSMjQnbDlGhp",
        "outputId": "aaaf4daf-4fd1-4a85-998f-2bfcef6ff905"
      },
      "execution_count": null,
      "outputs": [
        {
          "output_type": "execute_result",
          "data": {
            "text/html": [
              "\n",
              "  <div id=\"df-bb395d9d-a5c1-40b7-8ae5-ddb989b5b0aa\">\n",
              "    <div class=\"colab-df-container\">\n",
              "      <div>\n",
              "<style scoped>\n",
              "    .dataframe tbody tr th:only-of-type {\n",
              "        vertical-align: middle;\n",
              "    }\n",
              "\n",
              "    .dataframe tbody tr th {\n",
              "        vertical-align: top;\n",
              "    }\n",
              "\n",
              "    .dataframe thead th {\n",
              "        text-align: right;\n",
              "    }\n",
              "</style>\n",
              "<table border=\"1\" class=\"dataframe\">\n",
              "  <thead>\n",
              "    <tr style=\"text-align: right;\">\n",
              "      <th></th>\n",
              "      <th>Predecido Normal</th>\n",
              "      <th>Predecido venenoso</th>\n",
              "    </tr>\n",
              "  </thead>\n",
              "  <tbody>\n",
              "    <tr>\n",
              "      <th>Verdaderamente normal</th>\n",
              "      <td>6</td>\n",
              "      <td>836</td>\n",
              "    </tr>\n",
              "    <tr>\n",
              "      <th>verdaderamente venenoso</th>\n",
              "      <td>365</td>\n",
              "      <td>418</td>\n",
              "    </tr>\n",
              "  </tbody>\n",
              "</table>\n",
              "</div>\n",
              "      <button class=\"colab-df-convert\" onclick=\"convertToInteractive('df-bb395d9d-a5c1-40b7-8ae5-ddb989b5b0aa')\"\n",
              "              title=\"Convert this dataframe to an interactive table.\"\n",
              "              style=\"display:none;\">\n",
              "        \n",
              "  <svg xmlns=\"http://www.w3.org/2000/svg\" height=\"24px\"viewBox=\"0 0 24 24\"\n",
              "       width=\"24px\">\n",
              "    <path d=\"M0 0h24v24H0V0z\" fill=\"none\"/>\n",
              "    <path d=\"M18.56 5.44l.94 2.06.94-2.06 2.06-.94-2.06-.94-.94-2.06-.94 2.06-2.06.94zm-11 1L8.5 8.5l.94-2.06 2.06-.94-2.06-.94L8.5 2.5l-.94 2.06-2.06.94zm10 10l.94 2.06.94-2.06 2.06-.94-2.06-.94-.94-2.06-.94 2.06-2.06.94z\"/><path d=\"M17.41 7.96l-1.37-1.37c-.4-.4-.92-.59-1.43-.59-.52 0-1.04.2-1.43.59L10.3 9.45l-7.72 7.72c-.78.78-.78 2.05 0 2.83L4 21.41c.39.39.9.59 1.41.59.51 0 1.02-.2 1.41-.59l7.78-7.78 2.81-2.81c.8-.78.8-2.07 0-2.86zM5.41 20L4 18.59l7.72-7.72 1.47 1.35L5.41 20z\"/>\n",
              "  </svg>\n",
              "      </button>\n",
              "      \n",
              "  <style>\n",
              "    .colab-df-container {\n",
              "      display:flex;\n",
              "      flex-wrap:wrap;\n",
              "      gap: 12px;\n",
              "    }\n",
              "\n",
              "    .colab-df-convert {\n",
              "      background-color: #E8F0FE;\n",
              "      border: none;\n",
              "      border-radius: 50%;\n",
              "      cursor: pointer;\n",
              "      display: none;\n",
              "      fill: #1967D2;\n",
              "      height: 32px;\n",
              "      padding: 0 0 0 0;\n",
              "      width: 32px;\n",
              "    }\n",
              "\n",
              "    .colab-df-convert:hover {\n",
              "      background-color: #E2EBFA;\n",
              "      box-shadow: 0px 1px 2px rgba(60, 64, 67, 0.3), 0px 1px 3px 1px rgba(60, 64, 67, 0.15);\n",
              "      fill: #174EA6;\n",
              "    }\n",
              "\n",
              "    [theme=dark] .colab-df-convert {\n",
              "      background-color: #3B4455;\n",
              "      fill: #D2E3FC;\n",
              "    }\n",
              "\n",
              "    [theme=dark] .colab-df-convert:hover {\n",
              "      background-color: #434B5C;\n",
              "      box-shadow: 0px 1px 3px 1px rgba(0, 0, 0, 0.15);\n",
              "      filter: drop-shadow(0px 1px 2px rgba(0, 0, 0, 0.3));\n",
              "      fill: #FFFFFF;\n",
              "    }\n",
              "  </style>\n",
              "\n",
              "      <script>\n",
              "        const buttonEl =\n",
              "          document.querySelector('#df-bb395d9d-a5c1-40b7-8ae5-ddb989b5b0aa button.colab-df-convert');\n",
              "        buttonEl.style.display =\n",
              "          google.colab.kernel.accessAllowed ? 'block' : 'none';\n",
              "\n",
              "        async function convertToInteractive(key) {\n",
              "          const element = document.querySelector('#df-bb395d9d-a5c1-40b7-8ae5-ddb989b5b0aa');\n",
              "          const dataTable =\n",
              "            await google.colab.kernel.invokeFunction('convertToInteractive',\n",
              "                                                     [key], {});\n",
              "          if (!dataTable) return;\n",
              "\n",
              "          const docLinkHtml = 'Like what you see? Visit the ' +\n",
              "            '<a target=\"_blank\" href=https://colab.research.google.com/notebooks/data_table.ipynb>data table notebook</a>'\n",
              "            + ' to learn more about interactive tables.';\n",
              "          element.innerHTML = '';\n",
              "          dataTable['output_type'] = 'display_data';\n",
              "          await google.colab.output.renderOutput(dataTable, element);\n",
              "          const docLink = document.createElement('div');\n",
              "          docLink.innerHTML = docLinkHtml;\n",
              "          element.appendChild(docLink);\n",
              "        }\n",
              "      </script>\n",
              "    </div>\n",
              "  </div>\n",
              "  "
            ],
            "text/plain": [
              "                         Predecido Normal  Predecido venenoso\n",
              "Verdaderamente normal                   6                 836\n",
              "verdaderamente venenoso               365                 418"
            ]
          },
          "metadata": {},
          "execution_count": 174
        }
      ]
    },
    {
      "cell_type": "markdown",
      "source": [
        "### Evaluamos el modelo"
      ],
      "metadata": {
        "id": "agyzTdT5b9Gi"
      }
    },
    {
      "cell_type": "markdown",
      "source": [
        "### Evaluamos el modelo"
      ],
      "metadata": {
        "id": "xX86exGmlYjV"
      }
    },
    {
      "cell_type": "markdown",
      "source": [
        "#### ROC/AUC"
      ],
      "metadata": {
        "id": "Z2hNqFLylcxu"
      }
    },
    {
      "cell_type": "code",
      "source": [
        "#AUC\n",
        "from sklearn.metrics import roc_auc_score\n",
        "\n",
        "auc_roc = metrics.roc_auc_score(y_predic,y_test)\n",
        "print(auc_roc)"
      ],
      "metadata": {
        "colab": {
          "base_uri": "https://localhost:8080/"
        },
        "id": "pz5-Y_M4lVAL",
        "outputId": "76b7370d-6566-488d-97a1-d512a5eb4492"
      },
      "execution_count": null,
      "outputs": [
        {
          "output_type": "stream",
          "name": "stdout",
          "text": [
            "0.17475292003593887\n"
          ]
        }
      ]
    },
    {
      "cell_type": "code",
      "source": [
        "from sklearn.metrics import roc_curve, auc\n",
        "false_positive_rate, true_positive_rate, thresholds = roc_curve(y_test, y_predic)\n",
        "roc_auc = auc(false_positive_rate, true_positive_rate)\n",
        "roc_auc"
      ],
      "metadata": {
        "colab": {
          "base_uri": "https://localhost:8080/"
        },
        "id": "0gXkszvZmF6x",
        "outputId": "36e0d2cd-0b61-4d57-90bb-47fb34caf13e"
      },
      "execution_count": null,
      "outputs": [
        {
          "output_type": "execute_result",
          "data": {
            "text/plain": [
              "0.27048503987647243"
            ]
          },
          "metadata": {},
          "execution_count": 176
        }
      ]
    },
    {
      "cell_type": "code",
      "source": [
        "import matplotlib.pyplot as plt\n",
        "plt.figure(figsize =(7,7))\n",
        "plt.title(\"Receiver Operating Characteristic(ROC\")\n",
        "plt.plot(false_positive_rate,true_positive_rate, color='red',label = 'AUC = %0.2f' % roc_auc)\n",
        "plt.plot([0, 1], [0, 1],linestyle='--')\n",
        "plt.axis('tight')\n",
        "plt.ylabel('True Positive Rate')\n",
        "plt.xlabel('False Positive Rate')"
      ],
      "metadata": {
        "colab": {
          "base_uri": "https://localhost:8080/",
          "height": 476
        },
        "id": "FtdaOMiSmPb_",
        "outputId": "d07546aa-aa6d-4cc5-965a-71c655ff1e64"
      },
      "execution_count": null,
      "outputs": [
        {
          "output_type": "execute_result",
          "data": {
            "text/plain": [
              "Text(0.5, 0, 'False Positive Rate')"
            ]
          },
          "metadata": {},
          "execution_count": 177
        },
        {
          "output_type": "display_data",
          "data": {
            "image/png": "[encoded data removed]",
            "text/plain": [
              "<Figure size 504x504 with 1 Axes>"
            ]
          },
          "metadata": {
            "needs_background": "light"
          }
        }
      ]
    },
    {
      "cell_type": "markdown",
      "source": [
        "#### PRC"
      ],
      "metadata": {
        "id": "wE_FNQ7jmVBI"
      }
    },
    {
      "cell_type": "code",
      "source": [
        "#importamos las librerias\n",
        "from sklearn.metrics import precision_recall_curve\n",
        "from sklearn.metrics import f1_score"
      ],
      "metadata": {
        "id": "5Nu-m3NKmWVL"
      },
      "execution_count": null,
      "outputs": []
    },
    {
      "cell_type": "code",
      "source": [
        "#sacamos las metricas\n",
        "lr_precision, lr_recall, _ = precision_recall_curve(y_test, y_predic)\n",
        "lr_f1, lr_auc = f1_score(y_test, y_predic), auc(lr_recall, lr_precision)\n",
        "# sumamos los scores e imprimimos\n",
        "print('Logistica: f1=%.3f auc=%.3f' % (lr_f1, lr_auc))"
      ],
      "metadata": {
        "colab": {
          "base_uri": "https://localhost:8080/"
        },
        "id": "vumgT5Yxmc3U",
        "outputId": "adb3a053-1d36-4b18-afe3-03acc70af84c"
      },
      "execution_count": null,
      "outputs": [
        {
          "output_type": "stream",
          "name": "stdout",
          "text": [
            "Logistica: f1=0.410 auc=0.546\n"
          ]
        }
      ]
    },
    {
      "cell_type": "code",
      "source": [
        "# graficamos el prc\n",
        "plt.plot(lr_recall, lr_precision, marker='.', label='Logistic')\n",
        "# axis labels\n",
        "plt.xlabel('Recall')\n",
        "plt.ylabel('Precision')\n",
        "# show the legend\n",
        "plt.legend()\n",
        "# show the plot\n",
        "plt.show()"
      ],
      "metadata": {
        "colab": {
          "base_uri": "https://localhost:8080/",
          "height": 279
        },
        "id": "zNZZpRcrmdDO",
        "outputId": "9df2fb47-1480-451d-c162-723443960f8f"
      },
      "execution_count": null,
      "outputs": [
        {
          "output_type": "display_data",
          "data": {
            "image/png": "[encoded data removed]",
            "text/plain": [
              "<Figure size 432x288 with 1 Axes>"
            ]
          },
          "metadata": {
            "needs_background": "light"
          }
        }
      ]
    },
    {
      "cell_type": "markdown",
      "source": [
        "## Random Forest"
      ],
      "metadata": {
        "id": "JL-wtG-bLOfL"
      }
    },
    {
      "cell_type": "code",
      "source": [
        "#Importamos el modelo\n",
        "from sklearn.ensemble import RandomForestClassifier\n",
        "\n",
        "rf = RandomForestClassifier(n_estimators = 3, criterion = 'gini', random_state = 45)"
      ],
      "metadata": {
        "id": "r8cU5eUALUc_"
      },
      "execution_count": null,
      "outputs": []
    },
    {
      "cell_type": "code",
      "source": [
        "rf.fit(x_train,y_train)"
      ],
      "metadata": {
        "colab": {
          "base_uri": "https://localhost:8080/"
        },
        "id": "hZNpFiIfRd_Q",
        "outputId": "3baf41d7-1d34-42c7-f895-a55e2350b9c4"
      },
      "execution_count": null,
      "outputs": [
        {
          "output_type": "execute_result",
          "data": {
            "text/plain": [
              "RandomForestClassifier(n_estimators=3, random_state=45)"
            ]
          },
          "metadata": {},
          "execution_count": 182
        }
      ]
    },
    {
      "cell_type": "code",
      "source": [
        "from sklearn.metrics import confusion_matrix\n",
        "#predecimos\n",
        "y_predic= rf.predict(x_test)\n",
        "pd.DataFrame(confusion_matrix(y_test,y_predic), columns = ['Predecido Normal', 'Predecido venenoso'], index = ['Verdaderamente normal', 'verdaderamente venenoso'])"
      ],
      "metadata": {
        "colab": {
          "base_uri": "https://localhost:8080/",
          "height": 112
        },
        "id": "-0QuGmOvSZwZ",
        "outputId": "3912f667-8965-4975-e7f0-8c5707a207e3"
      },
      "execution_count": null,
      "outputs": [
        {
          "output_type": "execute_result",
          "data": {
            "text/html": [
              "\n",
              "  <div id=\"df-0c6cf5a7-7138-46d1-a6b9-b08b1f238ace\">\n",
              "    <div class=\"colab-df-container\">\n",
              "      <div>\n",
              "<style scoped>\n",
              "    .dataframe tbody tr th:only-of-type {\n",
              "        vertical-align: middle;\n",
              "    }\n",
              "\n",
              "    .dataframe tbody tr th {\n",
              "        vertical-align: top;\n",
              "    }\n",
              "\n",
              "    .dataframe thead th {\n",
              "        text-align: right;\n",
              "    }\n",
              "</style>\n",
              "<table border=\"1\" class=\"dataframe\">\n",
              "  <thead>\n",
              "    <tr style=\"text-align: right;\">\n",
              "      <th></th>\n",
              "      <th>Predecido Normal</th>\n",
              "      <th>Predecido venenoso</th>\n",
              "    </tr>\n",
              "  </thead>\n",
              "  <tbody>\n",
              "    <tr>\n",
              "      <th>Verdaderamente normal</th>\n",
              "      <td>842</td>\n",
              "      <td>0</td>\n",
              "    </tr>\n",
              "    <tr>\n",
              "      <th>verdaderamente venenoso</th>\n",
              "      <td>0</td>\n",
              "      <td>783</td>\n",
              "    </tr>\n",
              "  </tbody>\n",
              "</table>\n",
              "</div>\n",
              "      <button class=\"colab-df-convert\" onclick=\"convertToInteractive('df-0c6cf5a7-7138-46d1-a6b9-b08b1f238ace')\"\n",
              "              title=\"Convert this dataframe to an interactive table.\"\n",
              "              style=\"display:none;\">\n",
              "        \n",
              "  <svg xmlns=\"http://www.w3.org/2000/svg\" height=\"24px\"viewBox=\"0 0 24 24\"\n",
              "       width=\"24px\">\n",
              "    <path d=\"M0 0h24v24H0V0z\" fill=\"none\"/>\n",
              "    <path d=\"M18.56 5.44l.94 2.06.94-2.06 2.06-.94-2.06-.94-.94-2.06-.94 2.06-2.06.94zm-11 1L8.5 8.5l.94-2.06 2.06-.94-2.06-.94L8.5 2.5l-.94 2.06-2.06.94zm10 10l.94 2.06.94-2.06 2.06-.94-2.06-.94-.94-2.06-.94 2.06-2.06.94z\"/><path d=\"M17.41 7.96l-1.37-1.37c-.4-.4-.92-.59-1.43-.59-.52 0-1.04.2-1.43.59L10.3 9.45l-7.72 7.72c-.78.78-.78 2.05 0 2.83L4 21.41c.39.39.9.59 1.41.59.51 0 1.02-.2 1.41-.59l7.78-7.78 2.81-2.81c.8-.78.8-2.07 0-2.86zM5.41 20L4 18.59l7.72-7.72 1.47 1.35L5.41 20z\"/>\n",
              "  </svg>\n",
              "      </button>\n",
              "      \n",
              "  <style>\n",
              "    .colab-df-container {\n",
              "      display:flex;\n",
              "      flex-wrap:wrap;\n",
              "      gap: 12px;\n",
              "    }\n",
              "\n",
              "    .colab-df-convert {\n",
              "      background-color: #E8F0FE;\n",
              "      border: none;\n",
              "      border-radius: 50%;\n",
              "      cursor: pointer;\n",
              "      display: none;\n",
              "      fill: #1967D2;\n",
              "      height: 32px;\n",
              "      padding: 0 0 0 0;\n",
              "      width: 32px;\n",
              "    }\n",
              "\n",
              "    .colab-df-convert:hover {\n",
              "      background-color: #E2EBFA;\n",
              "      box-shadow: 0px 1px 2px rgba(60, 64, 67, 0.3), 0px 1px 3px 1px rgba(60, 64, 67, 0.15);\n",
              "      fill: #174EA6;\n",
              "    }\n",
              "\n",
              "    [theme=dark] .colab-df-convert {\n",
              "      background-color: #3B4455;\n",
              "      fill: #D2E3FC;\n",
              "    }\n",
              "\n",
              "    [theme=dark] .colab-df-convert:hover {\n",
              "      background-color: #434B5C;\n",
              "      box-shadow: 0px 1px 3px 1px rgba(0, 0, 0, 0.15);\n",
              "      filter: drop-shadow(0px 1px 2px rgba(0, 0, 0, 0.3));\n",
              "      fill: #FFFFFF;\n",
              "    }\n",
              "  </style>\n",
              "\n",
              "      <script>\n",
              "        const buttonEl =\n",
              "          document.querySelector('#df-0c6cf5a7-7138-46d1-a6b9-b08b1f238ace button.colab-df-convert');\n",
              "        buttonEl.style.display =\n",
              "          google.colab.kernel.accessAllowed ? 'block' : 'none';\n",
              "\n",
              "        async function convertToInteractive(key) {\n",
              "          const element = document.querySelector('#df-0c6cf5a7-7138-46d1-a6b9-b08b1f238ace');\n",
              "          const dataTable =\n",
              "            await google.colab.kernel.invokeFunction('convertToInteractive',\n",
              "                                                     [key], {});\n",
              "          if (!dataTable) return;\n",
              "\n",
              "          const docLinkHtml = 'Like what you see? Visit the ' +\n",
              "            '<a target=\"_blank\" href=https://colab.research.google.com/notebooks/data_table.ipynb>data table notebook</a>'\n",
              "            + ' to learn more about interactive tables.';\n",
              "          element.innerHTML = '';\n",
              "          dataTable['output_type'] = 'display_data';\n",
              "          await google.colab.output.renderOutput(dataTable, element);\n",
              "          const docLink = document.createElement('div');\n",
              "          docLink.innerHTML = docLinkHtml;\n",
              "          element.appendChild(docLink);\n",
              "        }\n",
              "      </script>\n",
              "    </div>\n",
              "  </div>\n",
              "  "
            ],
            "text/plain": [
              "                         Predecido Normal  Predecido venenoso\n",
              "Verdaderamente normal                 842                   0\n",
              "verdaderamente venenoso                 0                 783"
            ]
          },
          "metadata": {},
          "execution_count": 183
        }
      ]
    },
    {
      "cell_type": "code",
      "source": [
        "#Observamos cual es el feature que mas pesa en la toma de desiciones\n",
        "feature_scores = pd.Series(rf.feature_importances_, index=x.columns).sort_values(ascending=False)\n",
        "print(feature_scores)"
      ],
      "metadata": {
        "colab": {
          "base_uri": "https://localhost:8080/"
        },
        "id": "RbUWSlssVUoi",
        "outputId": "d6244d64-423a-4886-8d96-6218dc92d107"
      },
      "execution_count": null,
      "outputs": [
        {
          "output_type": "stream",
          "name": "stdout",
          "text": [
            "odor                        0.252228\n",
            "gill-size                   0.124467\n",
            "gill-color                  0.124120\n",
            "population                  0.109461\n",
            "ring-type                   0.098462\n",
            "bruises                     0.083338\n",
            "stalk-root                  0.056962\n",
            "stalk-surface-below-ring    0.029791\n",
            "stalk-shape                 0.027401\n",
            "stalk-color-below-ring      0.019511\n",
            "spore-print-color           0.016975\n",
            "habitat                     0.011380\n",
            "ring-number                 0.010903\n",
            "stalk-surface-above-ring    0.010406\n",
            "cap-color                   0.009796\n",
            "cap-shape                   0.005114\n",
            "gill-spacing                0.003946\n",
            "stalk-color-above-ring      0.003211\n",
            "veil-color                  0.002513\n",
            "cap-surface                 0.000015\n",
            "veil-type                   0.000000\n",
            "gill-attachment             0.000000\n",
            "dtype: float64\n"
          ]
        }
      ]
    },
    {
      "cell_type": "markdown",
      "source": [
        "Veamos cual feature tiene mas peso en la desición y  se observa que el que mas afecta la desición es el olor del hongo"
      ],
      "metadata": {
        "id": "IzcQhyriTeWI"
      }
    },
    {
      "cell_type": "code",
      "source": [
        "feat_importances = pd.DataFrame(rf.feature_importances_, x.columns, columns=[\"Importance\"])\n",
        "feat_importances.sort_values(by='Importance', ascending=False, inplace=True)\n",
        "feat_importances.plot(kind='bar', figsize=(8,6))"
      ],
      "metadata": {
        "colab": {
          "base_uri": "https://localhost:8080/",
          "height": 504
        },
        "id": "fqlmTFN1Syxr",
        "outputId": "9fafe7e8-8534-45ef-abae-88832ecfd3ca"
      },
      "execution_count": null,
      "outputs": [
        {
          "output_type": "execute_result",
          "data": {
            "text/plain": [
              "<matplotlib.axes._subplots.AxesSubplot at 0x7f87cc8ef9d0>"
            ]
          },
          "metadata": {},
          "execution_count": 187
        },
        {
          "output_type": "display_data",
          "data": {
            "image/png": "[encoded data removed]",
            "text/plain": [
              "<Figure size 576x432 with 1 Axes>"
            ]
          },
          "metadata": {
            "needs_background": "light"
          }
        }
      ]
    }
  ]
}